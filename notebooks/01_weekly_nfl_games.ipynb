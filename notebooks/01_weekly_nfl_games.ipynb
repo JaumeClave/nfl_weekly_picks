{
 "cells": [
  {
   "cell_type": "markdown",
   "metadata": {
    "collapsed": true,
    "pycharm": {
     "name": "#%% md\n"
    }
   },
   "source": [
    "# NFL Weekly Games"
   ]
  },
  {
   "cell_type": "code",
   "execution_count": 8,
   "outputs": [],
   "source": [
    "import warnings\n",
    "warnings.filterwarnings('ignore')\n",
    "import pandas as pd\n"
   ],
   "metadata": {
    "collapsed": false,
    "pycharm": {
     "name": "#%%\n"
    }
   }
  },
  {
   "cell_type": "markdown",
   "source": [
    "Getting a years schedule"
   ],
   "metadata": {
    "collapsed": false,
    "pycharm": {
     "name": "#%% md\n"
    }
   }
  },
  {
   "cell_type": "code",
   "execution_count": 15,
   "outputs": [],
   "source": [
    "import nfl_data_py as nfl\n",
    "import pandas as pd\n",
    "\n",
    "\n",
    "def make_yearly_schedule(year):\n",
    "    \"\"\"\n",
    "    Function returns a dataframe containing the provided years NFL schedule\n",
    "    :param year: year of schedule desired\n",
    "    :return: Pandas Dataframe\n",
    "    \"\"\"\n",
    "    yearly_schedule_2022_df = nfl.import_schedules([2022])\n",
    "    yearly_schedule_2022_df[\"gameday\"] = pd.to_datetime(yearly_schedule_2022_df[\"gameday\"]).dt.date\n",
    "    return yearly_schedule_2022_df"
   ],
   "metadata": {
    "collapsed": false,
    "pycharm": {
     "name": "#%%\n"
    }
   }
  },
  {
   "cell_type": "code",
   "execution_count": 16,
   "outputs": [
    {
     "data": {
      "text/plain": "              game_id  season game_type  week     gameday weekday gametime  \\\n6404  2022_18_NYG_PHI    2022       REG    18  2023-01-08  Sunday    13:00   \n6405  2022_18_CLE_PIT    2022       REG    18  2023-01-08  Sunday    13:00   \n6406   2022_18_LA_SEA    2022       REG    18  2023-01-08  Sunday    13:00   \n6407   2022_18_ARI_SF    2022       REG    18  2023-01-08  Sunday    13:00   \n6408  2022_18_DAL_WAS    2022       REG    18  2023-01-08  Sunday    13:00   \n\n     away_team  away_score home_team  ...  wind away_qb_id  home_qb_id  \\\n6404       NYG         NaN       PHI  ...   NaN        NaN         NaN   \n6405       CLE         NaN       PIT  ...   NaN        NaN         NaN   \n6406        LA         NaN       SEA  ...   NaN        NaN         NaN   \n6407       ARI         NaN        SF  ...   NaN        NaN         NaN   \n6408       DAL         NaN       WAS  ...   NaN        NaN         NaN   \n\n      away_qb_name  home_qb_name       away_coach     home_coach referee  \\\n6404           NaN           NaN     Brian Daboll  Nick Sirianni     NaN   \n6405           NaN           NaN  Kevin Stefanski    Mike Tomlin     NaN   \n6406           NaN           NaN       Sean McVay   Pete Carroll     NaN   \n6407           NaN           NaN  Kliff Kingsbury  Kyle Shanahan     NaN   \n6408           NaN           NaN    Mike McCarthy     Ron Rivera     NaN   \n\n     stadium_id                  stadium  \n6404      PHI00  Lincoln Financial Field  \n6405      PIT00         Acrisure Stadium  \n6406      SEA00              Lumen Field  \n6407      SFO01           Levi's Stadium  \n6408      WAS00               FedExField  \n\n[5 rows x 45 columns]",
      "text/html": "<div>\n<style scoped>\n    .dataframe tbody tr th:only-of-type {\n        vertical-align: middle;\n    }\n\n    .dataframe tbody tr th {\n        vertical-align: top;\n    }\n\n    .dataframe thead th {\n        text-align: right;\n    }\n</style>\n<table border=\"1\" class=\"dataframe\">\n  <thead>\n    <tr style=\"text-align: right;\">\n      <th></th>\n      <th>game_id</th>\n      <th>season</th>\n      <th>game_type</th>\n      <th>week</th>\n      <th>gameday</th>\n      <th>weekday</th>\n      <th>gametime</th>\n      <th>away_team</th>\n      <th>away_score</th>\n      <th>home_team</th>\n      <th>...</th>\n      <th>wind</th>\n      <th>away_qb_id</th>\n      <th>home_qb_id</th>\n      <th>away_qb_name</th>\n      <th>home_qb_name</th>\n      <th>away_coach</th>\n      <th>home_coach</th>\n      <th>referee</th>\n      <th>stadium_id</th>\n      <th>stadium</th>\n    </tr>\n  </thead>\n  <tbody>\n    <tr>\n      <th>6404</th>\n      <td>2022_18_NYG_PHI</td>\n      <td>2022</td>\n      <td>REG</td>\n      <td>18</td>\n      <td>2023-01-08</td>\n      <td>Sunday</td>\n      <td>13:00</td>\n      <td>NYG</td>\n      <td>NaN</td>\n      <td>PHI</td>\n      <td>...</td>\n      <td>NaN</td>\n      <td>NaN</td>\n      <td>NaN</td>\n      <td>NaN</td>\n      <td>NaN</td>\n      <td>Brian Daboll</td>\n      <td>Nick Sirianni</td>\n      <td>NaN</td>\n      <td>PHI00</td>\n      <td>Lincoln Financial Field</td>\n    </tr>\n    <tr>\n      <th>6405</th>\n      <td>2022_18_CLE_PIT</td>\n      <td>2022</td>\n      <td>REG</td>\n      <td>18</td>\n      <td>2023-01-08</td>\n      <td>Sunday</td>\n      <td>13:00</td>\n      <td>CLE</td>\n      <td>NaN</td>\n      <td>PIT</td>\n      <td>...</td>\n      <td>NaN</td>\n      <td>NaN</td>\n      <td>NaN</td>\n      <td>NaN</td>\n      <td>NaN</td>\n      <td>Kevin Stefanski</td>\n      <td>Mike Tomlin</td>\n      <td>NaN</td>\n      <td>PIT00</td>\n      <td>Acrisure Stadium</td>\n    </tr>\n    <tr>\n      <th>6406</th>\n      <td>2022_18_LA_SEA</td>\n      <td>2022</td>\n      <td>REG</td>\n      <td>18</td>\n      <td>2023-01-08</td>\n      <td>Sunday</td>\n      <td>13:00</td>\n      <td>LA</td>\n      <td>NaN</td>\n      <td>SEA</td>\n      <td>...</td>\n      <td>NaN</td>\n      <td>NaN</td>\n      <td>NaN</td>\n      <td>NaN</td>\n      <td>NaN</td>\n      <td>Sean McVay</td>\n      <td>Pete Carroll</td>\n      <td>NaN</td>\n      <td>SEA00</td>\n      <td>Lumen Field</td>\n    </tr>\n    <tr>\n      <th>6407</th>\n      <td>2022_18_ARI_SF</td>\n      <td>2022</td>\n      <td>REG</td>\n      <td>18</td>\n      <td>2023-01-08</td>\n      <td>Sunday</td>\n      <td>13:00</td>\n      <td>ARI</td>\n      <td>NaN</td>\n      <td>SF</td>\n      <td>...</td>\n      <td>NaN</td>\n      <td>NaN</td>\n      <td>NaN</td>\n      <td>NaN</td>\n      <td>NaN</td>\n      <td>Kliff Kingsbury</td>\n      <td>Kyle Shanahan</td>\n      <td>NaN</td>\n      <td>SFO01</td>\n      <td>Levi's Stadium</td>\n    </tr>\n    <tr>\n      <th>6408</th>\n      <td>2022_18_DAL_WAS</td>\n      <td>2022</td>\n      <td>REG</td>\n      <td>18</td>\n      <td>2023-01-08</td>\n      <td>Sunday</td>\n      <td>13:00</td>\n      <td>DAL</td>\n      <td>NaN</td>\n      <td>WAS</td>\n      <td>...</td>\n      <td>NaN</td>\n      <td>NaN</td>\n      <td>NaN</td>\n      <td>NaN</td>\n      <td>NaN</td>\n      <td>Mike McCarthy</td>\n      <td>Ron Rivera</td>\n      <td>NaN</td>\n      <td>WAS00</td>\n      <td>FedExField</td>\n    </tr>\n  </tbody>\n</table>\n<p>5 rows × 45 columns</p>\n</div>"
     },
     "execution_count": 16,
     "metadata": {},
     "output_type": "execute_result"
    }
   ],
   "source": [
    "yearly_schedule_2022_df = make_yearly_schedule(2022)\n",
    "yearly_schedule_2022_df.tail()"
   ],
   "metadata": {
    "collapsed": false,
    "pycharm": {
     "name": "#%%\n"
    }
   }
  },
  {
   "cell_type": "code",
   "execution_count": 17,
   "outputs": [
    {
     "data": {
      "text/plain": "              game_id  season game_type  week     gameday   weekday gametime  \\\n6169  2022_03_PIT_CLE    2022       REG     3  2022-09-22  Thursday    20:15   \n6170   2022_03_NO_CAR    2022       REG     3  2022-09-25    Sunday    13:00   \n6171  2022_03_HOU_CHI    2022       REG     3  2022-09-25    Sunday    13:00   \n6172   2022_03_KC_IND    2022       REG     3  2022-09-25    Sunday    13:00   \n6173  2022_03_BUF_MIA    2022       REG     3  2022-09-25    Sunday    13:00   \n6174  2022_03_DET_MIN    2022       REG     3  2022-09-25    Sunday    13:00   \n6175   2022_03_BAL_NE    2022       REG     3  2022-09-25    Sunday    13:00   \n6176  2022_03_CIN_NYJ    2022       REG     3  2022-09-25    Sunday    13:00   \n6177   2022_03_LV_TEN    2022       REG     3  2022-09-25    Sunday    13:00   \n6178  2022_03_PHI_WAS    2022       REG     3  2022-09-25    Sunday    13:00   \n6179  2022_03_JAX_LAC    2022       REG     3  2022-09-25    Sunday    16:05   \n6180   2022_03_LA_ARI    2022       REG     3  2022-09-25    Sunday    16:25   \n6181  2022_03_ATL_SEA    2022       REG     3  2022-09-25    Sunday    16:25   \n6182    2022_03_GB_TB    2022       REG     3  2022-09-25    Sunday    16:25   \n6183   2022_03_SF_DEN    2022       REG     3  2022-09-25    Sunday    20:20   \n6184  2022_03_DAL_NYG    2022       REG     3  2022-09-26    Monday    20:15   \n\n     away_team  away_score home_team  ...  wind  away_qb_id  home_qb_id  \\\n6169       PIT        17.0       CLE  ...   NaN  00-0033869  00-0033119   \n6170        NO        14.0       CAR  ...   NaN  00-0031503  00-0034855   \n6171       HOU        20.0       CHI  ...   NaN  00-0036898  00-0036945   \n6172        KC        17.0       IND  ...   NaN  00-0033873  00-0026143   \n6173       BUF        19.0       MIA  ...   NaN  00-0034857  00-0036212   \n6174       DET        24.0       MIN  ...   NaN  00-0033106  00-0029604   \n6175       BAL        37.0        NE  ...   NaN  00-0034796  00-0036972   \n6176       CIN        27.0       NYJ  ...   NaN  00-0036442  00-0026158   \n6177        LV        22.0       TEN  ...   NaN  00-0031280  00-0029701   \n6178       PHI        24.0       WAS  ...   NaN  00-0036389  00-0032950   \n6179       JAX        38.0       LAC  ...   NaN  00-0036971  00-0036355   \n6180        LA        20.0       ARI  ...   NaN  00-0026498  00-0035228   \n6181       ATL        27.0       SEA  ...   NaN  00-0032268  00-0030565   \n6182        GB        14.0        TB  ...   NaN  00-0023459  00-0019596   \n6183        SF        10.0       DEN  ...   NaN  00-0031345  00-0029263   \n6184       DAL        23.0       NYG  ...   NaN  00-0033662  00-0035710   \n\n          away_qb_name     home_qb_name      away_coach         home_coach  \\\n6169    Mitch Trubisky  Jacoby Brissett     Mike Tomlin    Kevin Stefanski   \n6170    Jameis Winston   Baker Mayfield    Dennis Allen         Matt Rhule   \n6171       Davis Mills    Justin Fields     Lovie Smith      Matt Eberflus   \n6172   Patrick Mahomes        Matt Ryan       Andy Reid        Frank Reich   \n6173        Josh Allen   Tua Tagovailoa  Sean McDermott      Mike McDaniel   \n6174        Jared Goff     Kirk Cousins    Dan Campbell    Kevin O'Connell   \n6175     Lamar Jackson        Mac Jones   John Harbaugh     Bill Belichick   \n6176        Joe Burrow       Joe Flacco      Zac Taylor       Robert Saleh   \n6177        Derek Carr   Ryan Tannehill  Josh McDaniels        Mike Vrabel   \n6178       Jalen Hurts     Carson Wentz   Nick Sirianni         Ron Rivera   \n6179   Trevor Lawrence   Justin Herbery   Doug Pederson     Brandon Staley   \n6180  Matthew Stafford     Kyler Murray      Sean McVay    Kliff Kingsbury   \n6181    Marcus Mariota       Geno Smith    Arthur Smith       Pete Carroll   \n6182     Aaron Rodgers        Tom Brady    Matt LaFleur        Todd Bowles   \n6183   Jimmy Garoppolo   Russell Wilson   Kyle Shanahan  Nathaniel Hackett   \n6184       Cooper Rush     Daniel Jones   Mike McCarthy       Brian Daboll   \n\n             referee stadium_id                     stadium  \n6169     Clay Martin      CLE00         FirstEnergy Stadium  \n6170   Carl Cheffers      CAR00     Bank of America Stadium  \n6171  Clete Blakeman      CHI98               Soldier Field  \n6172     Shawn Smith      IND00           Lucas Oil Stadium  \n6173       Alex Kemp      MIA00           Hard Rock Stadium  \n6174     John Hussey      MIN01           U.S. Bank Stadium  \n6175   Bill Vinovich      BOS00            Gillette Stadium  \n6176    Jerome Boger      NYC01             MetLife Stadium  \n6177     Brad Rogers      NAS00              Nissan Stadium  \n6178     Ron Torbert      WAS00                  FedExField  \n6179  Craig Wrolstad      LAX01                SoFi Stadium  \n6180     Adrian Hill      PHO00          State Farm Stadium  \n6181       Tra Blake      SEA00                 Lumen Field  \n6182     Scott Novak      TAM00       Raymond James Stadium  \n6183   Shawn Hochuli      DEN00  Empower Field at Mile High  \n6184      Land Clark      NYC01             MetLife Stadium  \n\n[16 rows x 45 columns]",
      "text/html": "<div>\n<style scoped>\n    .dataframe tbody tr th:only-of-type {\n        vertical-align: middle;\n    }\n\n    .dataframe tbody tr th {\n        vertical-align: top;\n    }\n\n    .dataframe thead th {\n        text-align: right;\n    }\n</style>\n<table border=\"1\" class=\"dataframe\">\n  <thead>\n    <tr style=\"text-align: right;\">\n      <th></th>\n      <th>game_id</th>\n      <th>season</th>\n      <th>game_type</th>\n      <th>week</th>\n      <th>gameday</th>\n      <th>weekday</th>\n      <th>gametime</th>\n      <th>away_team</th>\n      <th>away_score</th>\n      <th>home_team</th>\n      <th>...</th>\n      <th>wind</th>\n      <th>away_qb_id</th>\n      <th>home_qb_id</th>\n      <th>away_qb_name</th>\n      <th>home_qb_name</th>\n      <th>away_coach</th>\n      <th>home_coach</th>\n      <th>referee</th>\n      <th>stadium_id</th>\n      <th>stadium</th>\n    </tr>\n  </thead>\n  <tbody>\n    <tr>\n      <th>6169</th>\n      <td>2022_03_PIT_CLE</td>\n      <td>2022</td>\n      <td>REG</td>\n      <td>3</td>\n      <td>2022-09-22</td>\n      <td>Thursday</td>\n      <td>20:15</td>\n      <td>PIT</td>\n      <td>17.0</td>\n      <td>CLE</td>\n      <td>...</td>\n      <td>NaN</td>\n      <td>00-0033869</td>\n      <td>00-0033119</td>\n      <td>Mitch Trubisky</td>\n      <td>Jacoby Brissett</td>\n      <td>Mike Tomlin</td>\n      <td>Kevin Stefanski</td>\n      <td>Clay Martin</td>\n      <td>CLE00</td>\n      <td>FirstEnergy Stadium</td>\n    </tr>\n    <tr>\n      <th>6170</th>\n      <td>2022_03_NO_CAR</td>\n      <td>2022</td>\n      <td>REG</td>\n      <td>3</td>\n      <td>2022-09-25</td>\n      <td>Sunday</td>\n      <td>13:00</td>\n      <td>NO</td>\n      <td>14.0</td>\n      <td>CAR</td>\n      <td>...</td>\n      <td>NaN</td>\n      <td>00-0031503</td>\n      <td>00-0034855</td>\n      <td>Jameis Winston</td>\n      <td>Baker Mayfield</td>\n      <td>Dennis Allen</td>\n      <td>Matt Rhule</td>\n      <td>Carl Cheffers</td>\n      <td>CAR00</td>\n      <td>Bank of America Stadium</td>\n    </tr>\n    <tr>\n      <th>6171</th>\n      <td>2022_03_HOU_CHI</td>\n      <td>2022</td>\n      <td>REG</td>\n      <td>3</td>\n      <td>2022-09-25</td>\n      <td>Sunday</td>\n      <td>13:00</td>\n      <td>HOU</td>\n      <td>20.0</td>\n      <td>CHI</td>\n      <td>...</td>\n      <td>NaN</td>\n      <td>00-0036898</td>\n      <td>00-0036945</td>\n      <td>Davis Mills</td>\n      <td>Justin Fields</td>\n      <td>Lovie Smith</td>\n      <td>Matt Eberflus</td>\n      <td>Clete Blakeman</td>\n      <td>CHI98</td>\n      <td>Soldier Field</td>\n    </tr>\n    <tr>\n      <th>6172</th>\n      <td>2022_03_KC_IND</td>\n      <td>2022</td>\n      <td>REG</td>\n      <td>3</td>\n      <td>2022-09-25</td>\n      <td>Sunday</td>\n      <td>13:00</td>\n      <td>KC</td>\n      <td>17.0</td>\n      <td>IND</td>\n      <td>...</td>\n      <td>NaN</td>\n      <td>00-0033873</td>\n      <td>00-0026143</td>\n      <td>Patrick Mahomes</td>\n      <td>Matt Ryan</td>\n      <td>Andy Reid</td>\n      <td>Frank Reich</td>\n      <td>Shawn Smith</td>\n      <td>IND00</td>\n      <td>Lucas Oil Stadium</td>\n    </tr>\n    <tr>\n      <th>6173</th>\n      <td>2022_03_BUF_MIA</td>\n      <td>2022</td>\n      <td>REG</td>\n      <td>3</td>\n      <td>2022-09-25</td>\n      <td>Sunday</td>\n      <td>13:00</td>\n      <td>BUF</td>\n      <td>19.0</td>\n      <td>MIA</td>\n      <td>...</td>\n      <td>NaN</td>\n      <td>00-0034857</td>\n      <td>00-0036212</td>\n      <td>Josh Allen</td>\n      <td>Tua Tagovailoa</td>\n      <td>Sean McDermott</td>\n      <td>Mike McDaniel</td>\n      <td>Alex Kemp</td>\n      <td>MIA00</td>\n      <td>Hard Rock Stadium</td>\n    </tr>\n    <tr>\n      <th>6174</th>\n      <td>2022_03_DET_MIN</td>\n      <td>2022</td>\n      <td>REG</td>\n      <td>3</td>\n      <td>2022-09-25</td>\n      <td>Sunday</td>\n      <td>13:00</td>\n      <td>DET</td>\n      <td>24.0</td>\n      <td>MIN</td>\n      <td>...</td>\n      <td>NaN</td>\n      <td>00-0033106</td>\n      <td>00-0029604</td>\n      <td>Jared Goff</td>\n      <td>Kirk Cousins</td>\n      <td>Dan Campbell</td>\n      <td>Kevin O'Connell</td>\n      <td>John Hussey</td>\n      <td>MIN01</td>\n      <td>U.S. Bank Stadium</td>\n    </tr>\n    <tr>\n      <th>6175</th>\n      <td>2022_03_BAL_NE</td>\n      <td>2022</td>\n      <td>REG</td>\n      <td>3</td>\n      <td>2022-09-25</td>\n      <td>Sunday</td>\n      <td>13:00</td>\n      <td>BAL</td>\n      <td>37.0</td>\n      <td>NE</td>\n      <td>...</td>\n      <td>NaN</td>\n      <td>00-0034796</td>\n      <td>00-0036972</td>\n      <td>Lamar Jackson</td>\n      <td>Mac Jones</td>\n      <td>John Harbaugh</td>\n      <td>Bill Belichick</td>\n      <td>Bill Vinovich</td>\n      <td>BOS00</td>\n      <td>Gillette Stadium</td>\n    </tr>\n    <tr>\n      <th>6176</th>\n      <td>2022_03_CIN_NYJ</td>\n      <td>2022</td>\n      <td>REG</td>\n      <td>3</td>\n      <td>2022-09-25</td>\n      <td>Sunday</td>\n      <td>13:00</td>\n      <td>CIN</td>\n      <td>27.0</td>\n      <td>NYJ</td>\n      <td>...</td>\n      <td>NaN</td>\n      <td>00-0036442</td>\n      <td>00-0026158</td>\n      <td>Joe Burrow</td>\n      <td>Joe Flacco</td>\n      <td>Zac Taylor</td>\n      <td>Robert Saleh</td>\n      <td>Jerome Boger</td>\n      <td>NYC01</td>\n      <td>MetLife Stadium</td>\n    </tr>\n    <tr>\n      <th>6177</th>\n      <td>2022_03_LV_TEN</td>\n      <td>2022</td>\n      <td>REG</td>\n      <td>3</td>\n      <td>2022-09-25</td>\n      <td>Sunday</td>\n      <td>13:00</td>\n      <td>LV</td>\n      <td>22.0</td>\n      <td>TEN</td>\n      <td>...</td>\n      <td>NaN</td>\n      <td>00-0031280</td>\n      <td>00-0029701</td>\n      <td>Derek Carr</td>\n      <td>Ryan Tannehill</td>\n      <td>Josh McDaniels</td>\n      <td>Mike Vrabel</td>\n      <td>Brad Rogers</td>\n      <td>NAS00</td>\n      <td>Nissan Stadium</td>\n    </tr>\n    <tr>\n      <th>6178</th>\n      <td>2022_03_PHI_WAS</td>\n      <td>2022</td>\n      <td>REG</td>\n      <td>3</td>\n      <td>2022-09-25</td>\n      <td>Sunday</td>\n      <td>13:00</td>\n      <td>PHI</td>\n      <td>24.0</td>\n      <td>WAS</td>\n      <td>...</td>\n      <td>NaN</td>\n      <td>00-0036389</td>\n      <td>00-0032950</td>\n      <td>Jalen Hurts</td>\n      <td>Carson Wentz</td>\n      <td>Nick Sirianni</td>\n      <td>Ron Rivera</td>\n      <td>Ron Torbert</td>\n      <td>WAS00</td>\n      <td>FedExField</td>\n    </tr>\n    <tr>\n      <th>6179</th>\n      <td>2022_03_JAX_LAC</td>\n      <td>2022</td>\n      <td>REG</td>\n      <td>3</td>\n      <td>2022-09-25</td>\n      <td>Sunday</td>\n      <td>16:05</td>\n      <td>JAX</td>\n      <td>38.0</td>\n      <td>LAC</td>\n      <td>...</td>\n      <td>NaN</td>\n      <td>00-0036971</td>\n      <td>00-0036355</td>\n      <td>Trevor Lawrence</td>\n      <td>Justin Herbery</td>\n      <td>Doug Pederson</td>\n      <td>Brandon Staley</td>\n      <td>Craig Wrolstad</td>\n      <td>LAX01</td>\n      <td>SoFi Stadium</td>\n    </tr>\n    <tr>\n      <th>6180</th>\n      <td>2022_03_LA_ARI</td>\n      <td>2022</td>\n      <td>REG</td>\n      <td>3</td>\n      <td>2022-09-25</td>\n      <td>Sunday</td>\n      <td>16:25</td>\n      <td>LA</td>\n      <td>20.0</td>\n      <td>ARI</td>\n      <td>...</td>\n      <td>NaN</td>\n      <td>00-0026498</td>\n      <td>00-0035228</td>\n      <td>Matthew Stafford</td>\n      <td>Kyler Murray</td>\n      <td>Sean McVay</td>\n      <td>Kliff Kingsbury</td>\n      <td>Adrian Hill</td>\n      <td>PHO00</td>\n      <td>State Farm Stadium</td>\n    </tr>\n    <tr>\n      <th>6181</th>\n      <td>2022_03_ATL_SEA</td>\n      <td>2022</td>\n      <td>REG</td>\n      <td>3</td>\n      <td>2022-09-25</td>\n      <td>Sunday</td>\n      <td>16:25</td>\n      <td>ATL</td>\n      <td>27.0</td>\n      <td>SEA</td>\n      <td>...</td>\n      <td>NaN</td>\n      <td>00-0032268</td>\n      <td>00-0030565</td>\n      <td>Marcus Mariota</td>\n      <td>Geno Smith</td>\n      <td>Arthur Smith</td>\n      <td>Pete Carroll</td>\n      <td>Tra Blake</td>\n      <td>SEA00</td>\n      <td>Lumen Field</td>\n    </tr>\n    <tr>\n      <th>6182</th>\n      <td>2022_03_GB_TB</td>\n      <td>2022</td>\n      <td>REG</td>\n      <td>3</td>\n      <td>2022-09-25</td>\n      <td>Sunday</td>\n      <td>16:25</td>\n      <td>GB</td>\n      <td>14.0</td>\n      <td>TB</td>\n      <td>...</td>\n      <td>NaN</td>\n      <td>00-0023459</td>\n      <td>00-0019596</td>\n      <td>Aaron Rodgers</td>\n      <td>Tom Brady</td>\n      <td>Matt LaFleur</td>\n      <td>Todd Bowles</td>\n      <td>Scott Novak</td>\n      <td>TAM00</td>\n      <td>Raymond James Stadium</td>\n    </tr>\n    <tr>\n      <th>6183</th>\n      <td>2022_03_SF_DEN</td>\n      <td>2022</td>\n      <td>REG</td>\n      <td>3</td>\n      <td>2022-09-25</td>\n      <td>Sunday</td>\n      <td>20:20</td>\n      <td>SF</td>\n      <td>10.0</td>\n      <td>DEN</td>\n      <td>...</td>\n      <td>NaN</td>\n      <td>00-0031345</td>\n      <td>00-0029263</td>\n      <td>Jimmy Garoppolo</td>\n      <td>Russell Wilson</td>\n      <td>Kyle Shanahan</td>\n      <td>Nathaniel Hackett</td>\n      <td>Shawn Hochuli</td>\n      <td>DEN00</td>\n      <td>Empower Field at Mile High</td>\n    </tr>\n    <tr>\n      <th>6184</th>\n      <td>2022_03_DAL_NYG</td>\n      <td>2022</td>\n      <td>REG</td>\n      <td>3</td>\n      <td>2022-09-26</td>\n      <td>Monday</td>\n      <td>20:15</td>\n      <td>DAL</td>\n      <td>23.0</td>\n      <td>NYG</td>\n      <td>...</td>\n      <td>NaN</td>\n      <td>00-0033662</td>\n      <td>00-0035710</td>\n      <td>Cooper Rush</td>\n      <td>Daniel Jones</td>\n      <td>Mike McCarthy</td>\n      <td>Brian Daboll</td>\n      <td>Land Clark</td>\n      <td>NYC01</td>\n      <td>MetLife Stadium</td>\n    </tr>\n  </tbody>\n</table>\n<p>16 rows × 45 columns</p>\n</div>"
     },
     "execution_count": 17,
     "metadata": {},
     "output_type": "execute_result"
    }
   ],
   "source": [
    "yearly_schedule_2022_df[yearly_schedule_2022_df[\"week\"] == 3]"
   ],
   "metadata": {
    "collapsed": false,
    "pycharm": {
     "name": "#%%\n"
    }
   }
  },
  {
   "cell_type": "markdown",
   "source": [
    "Data for database Games table"
   ],
   "metadata": {
    "collapsed": false,
    "pycharm": {
     "name": "#%% md\n"
    }
   }
  },
  {
   "cell_type": "code",
   "execution_count": 18,
   "outputs": [],
   "source": [
    "yearly_schedule_2022_df[[\"game_id\", \"season\", \"game_type\", \"week\", \"gameday\", \"weekday\", \"gametime\", \"away_team\", \"home_team\", \"stadium\"]].to_csv(r\"C:\\Users\\Jaume\\Documents\\Python Projects\\nfl_weekly_picks\\data\\processed\\games_table.csv\")"
   ],
   "metadata": {
    "collapsed": false,
    "pycharm": {
     "name": "#%%\n"
    }
   }
  },
  {
   "cell_type": "markdown",
   "source": [
    "Getting the current NFL week number based on days"
   ],
   "metadata": {
    "collapsed": false,
    "pycharm": {
     "name": "#%% md\n"
    }
   }
  },
  {
   "cell_type": "code",
   "execution_count": 19,
   "outputs": [],
   "source": [
    "import datetime\n",
    "\n",
    "def make_current_nfl_week_number(yearly_schedule):\n",
    "    \"\"\"\n",
    "    Function finds the current NFL week by filtering for games/weeks that are less than today's date\n",
    "    :param yearly_schedule: Dataframe containing the provided years NFL schedule\n",
    "    :return: Current NFL week - int\n",
    "    \"\"\"\n",
    "    current_date = datetime.datetime.now().date()\n",
    "    dates_less_than_today = yearly_schedule[yearly_schedule[\"gameday\"] <= current_date]\n",
    "    current_week = dates_less_than_today[\"week\"].max()\n",
    "    return current_week"
   ],
   "metadata": {
    "collapsed": false,
    "pycharm": {
     "name": "#%%\n"
    }
   }
  },
  {
   "cell_type": "code",
   "execution_count": 20,
   "outputs": [
    {
     "data": {
      "text/plain": "6"
     },
     "execution_count": 20,
     "metadata": {},
     "output_type": "execute_result"
    }
   ],
   "source": [
    "current_week = make_current_nfl_week_number(yearly_schedule_2022_df)\n",
    "current_week"
   ],
   "metadata": {
    "collapsed": false,
    "pycharm": {
     "name": "#%%\n"
    }
   }
  },
  {
   "cell_type": "markdown",
   "source": [
    "Getting a weeks schedule"
   ],
   "metadata": {
    "collapsed": false
   }
  },
  {
   "cell_type": "code",
   "execution_count": 21,
   "outputs": [],
   "source": [
    "week_schedule_df_columns = [\"game_id\", \"week\", \"gameday\", \"weekday\", \"gametime\", \"away_team\", \"home_team\", \"away_rest\", \"home_rest\", \"spread_line\", \"stadium\"]\n",
    "\n",
    "def make_week_schedule(yearly_schedule_df, week_number):\n",
    "    \"\"\"\n",
    "    Function returns a dataframe containing home & away team & rest, kickoff time and day and spread\n",
    "    :param week_number: NFL week number - int\n",
    "    :return: Dataframe containing a weeks NFL schedule\n",
    "    \"\"\"\n",
    "    yearly_week_schedule_df = yearly_schedule_df[yearly_schedule_df[\"week\"] == week_number]\n",
    "    week_schedule_df = yearly_week_schedule_df[week_schedule_df_columns]\n",
    "    week_schedule_df.sort_values([\"gameday\", \"gametime\"], axis=0, ascending=True, inplace=True)\n",
    "    return week_schedule_df"
   ],
   "metadata": {
    "collapsed": false,
    "pycharm": {
     "name": "#%%\n"
    }
   }
  },
  {
   "cell_type": "code",
   "execution_count": 22,
   "outputs": [
    {
     "data": {
      "text/plain": "              game_id  week     gameday   weekday gametime away_team  \\\n6169  2022_03_PIT_CLE     3  2022-09-22  Thursday    20:15       PIT   \n6170   2022_03_NO_CAR     3  2022-09-25    Sunday    13:00        NO   \n6171  2022_03_HOU_CHI     3  2022-09-25    Sunday    13:00       HOU   \n6172   2022_03_KC_IND     3  2022-09-25    Sunday    13:00        KC   \n6173  2022_03_BUF_MIA     3  2022-09-25    Sunday    13:00       BUF   \n6174  2022_03_DET_MIN     3  2022-09-25    Sunday    13:00       DET   \n6175   2022_03_BAL_NE     3  2022-09-25    Sunday    13:00       BAL   \n6176  2022_03_CIN_NYJ     3  2022-09-25    Sunday    13:00       CIN   \n6177   2022_03_LV_TEN     3  2022-09-25    Sunday    13:00        LV   \n6178  2022_03_PHI_WAS     3  2022-09-25    Sunday    13:00       PHI   \n6179  2022_03_JAX_LAC     3  2022-09-25    Sunday    16:05       JAX   \n6180   2022_03_LA_ARI     3  2022-09-25    Sunday    16:25        LA   \n6181  2022_03_ATL_SEA     3  2022-09-25    Sunday    16:25       ATL   \n6182    2022_03_GB_TB     3  2022-09-25    Sunday    16:25        GB   \n6183   2022_03_SF_DEN     3  2022-09-25    Sunday    20:20        SF   \n6184  2022_03_DAL_NYG     3  2022-09-26    Monday    20:15       DAL   \n\n     home_team  away_rest  home_rest  spread_line                     stadium  \n6169       CLE          4          4          4.5         FirstEnergy Stadium  \n6170       CAR          7          7         -2.0     Bank of America Stadium  \n6171       CHI          7          7          3.0               Soldier Field  \n6172       IND         10          7         -4.5           Lucas Oil Stadium  \n6173       MIA          6          7         -4.0           Hard Rock Stadium  \n6174       MIN          7          6          6.5           U.S. Bank Stadium  \n6175        NE          7          7         -2.5            Gillette Stadium  \n6176       NYJ          7          7         -6.5             MetLife Stadium  \n6177       TEN          7          6         -1.5              Nissan Stadium  \n6178       WAS          6          7         -6.0                  FedExField  \n6179       LAC          7         10          6.5                SoFi Stadium  \n6180       ARI          7          7         -3.5          State Farm Stadium  \n6181       SEA          7          7          1.0                 Lumen Field  \n6182        TB          7          7          1.0       Raymond James Stadium  \n6183       DEN          7          7         -1.0  Empower Field at Mile High  \n6184       NYG          8          8          1.0             MetLife Stadium  ",
      "text/html": "<div>\n<style scoped>\n    .dataframe tbody tr th:only-of-type {\n        vertical-align: middle;\n    }\n\n    .dataframe tbody tr th {\n        vertical-align: top;\n    }\n\n    .dataframe thead th {\n        text-align: right;\n    }\n</style>\n<table border=\"1\" class=\"dataframe\">\n  <thead>\n    <tr style=\"text-align: right;\">\n      <th></th>\n      <th>game_id</th>\n      <th>week</th>\n      <th>gameday</th>\n      <th>weekday</th>\n      <th>gametime</th>\n      <th>away_team</th>\n      <th>home_team</th>\n      <th>away_rest</th>\n      <th>home_rest</th>\n      <th>spread_line</th>\n      <th>stadium</th>\n    </tr>\n  </thead>\n  <tbody>\n    <tr>\n      <th>6169</th>\n      <td>2022_03_PIT_CLE</td>\n      <td>3</td>\n      <td>2022-09-22</td>\n      <td>Thursday</td>\n      <td>20:15</td>\n      <td>PIT</td>\n      <td>CLE</td>\n      <td>4</td>\n      <td>4</td>\n      <td>4.5</td>\n      <td>FirstEnergy Stadium</td>\n    </tr>\n    <tr>\n      <th>6170</th>\n      <td>2022_03_NO_CAR</td>\n      <td>3</td>\n      <td>2022-09-25</td>\n      <td>Sunday</td>\n      <td>13:00</td>\n      <td>NO</td>\n      <td>CAR</td>\n      <td>7</td>\n      <td>7</td>\n      <td>-2.0</td>\n      <td>Bank of America Stadium</td>\n    </tr>\n    <tr>\n      <th>6171</th>\n      <td>2022_03_HOU_CHI</td>\n      <td>3</td>\n      <td>2022-09-25</td>\n      <td>Sunday</td>\n      <td>13:00</td>\n      <td>HOU</td>\n      <td>CHI</td>\n      <td>7</td>\n      <td>7</td>\n      <td>3.0</td>\n      <td>Soldier Field</td>\n    </tr>\n    <tr>\n      <th>6172</th>\n      <td>2022_03_KC_IND</td>\n      <td>3</td>\n      <td>2022-09-25</td>\n      <td>Sunday</td>\n      <td>13:00</td>\n      <td>KC</td>\n      <td>IND</td>\n      <td>10</td>\n      <td>7</td>\n      <td>-4.5</td>\n      <td>Lucas Oil Stadium</td>\n    </tr>\n    <tr>\n      <th>6173</th>\n      <td>2022_03_BUF_MIA</td>\n      <td>3</td>\n      <td>2022-09-25</td>\n      <td>Sunday</td>\n      <td>13:00</td>\n      <td>BUF</td>\n      <td>MIA</td>\n      <td>6</td>\n      <td>7</td>\n      <td>-4.0</td>\n      <td>Hard Rock Stadium</td>\n    </tr>\n    <tr>\n      <th>6174</th>\n      <td>2022_03_DET_MIN</td>\n      <td>3</td>\n      <td>2022-09-25</td>\n      <td>Sunday</td>\n      <td>13:00</td>\n      <td>DET</td>\n      <td>MIN</td>\n      <td>7</td>\n      <td>6</td>\n      <td>6.5</td>\n      <td>U.S. Bank Stadium</td>\n    </tr>\n    <tr>\n      <th>6175</th>\n      <td>2022_03_BAL_NE</td>\n      <td>3</td>\n      <td>2022-09-25</td>\n      <td>Sunday</td>\n      <td>13:00</td>\n      <td>BAL</td>\n      <td>NE</td>\n      <td>7</td>\n      <td>7</td>\n      <td>-2.5</td>\n      <td>Gillette Stadium</td>\n    </tr>\n    <tr>\n      <th>6176</th>\n      <td>2022_03_CIN_NYJ</td>\n      <td>3</td>\n      <td>2022-09-25</td>\n      <td>Sunday</td>\n      <td>13:00</td>\n      <td>CIN</td>\n      <td>NYJ</td>\n      <td>7</td>\n      <td>7</td>\n      <td>-6.5</td>\n      <td>MetLife Stadium</td>\n    </tr>\n    <tr>\n      <th>6177</th>\n      <td>2022_03_LV_TEN</td>\n      <td>3</td>\n      <td>2022-09-25</td>\n      <td>Sunday</td>\n      <td>13:00</td>\n      <td>LV</td>\n      <td>TEN</td>\n      <td>7</td>\n      <td>6</td>\n      <td>-1.5</td>\n      <td>Nissan Stadium</td>\n    </tr>\n    <tr>\n      <th>6178</th>\n      <td>2022_03_PHI_WAS</td>\n      <td>3</td>\n      <td>2022-09-25</td>\n      <td>Sunday</td>\n      <td>13:00</td>\n      <td>PHI</td>\n      <td>WAS</td>\n      <td>6</td>\n      <td>7</td>\n      <td>-6.0</td>\n      <td>FedExField</td>\n    </tr>\n    <tr>\n      <th>6179</th>\n      <td>2022_03_JAX_LAC</td>\n      <td>3</td>\n      <td>2022-09-25</td>\n      <td>Sunday</td>\n      <td>16:05</td>\n      <td>JAX</td>\n      <td>LAC</td>\n      <td>7</td>\n      <td>10</td>\n      <td>6.5</td>\n      <td>SoFi Stadium</td>\n    </tr>\n    <tr>\n      <th>6180</th>\n      <td>2022_03_LA_ARI</td>\n      <td>3</td>\n      <td>2022-09-25</td>\n      <td>Sunday</td>\n      <td>16:25</td>\n      <td>LA</td>\n      <td>ARI</td>\n      <td>7</td>\n      <td>7</td>\n      <td>-3.5</td>\n      <td>State Farm Stadium</td>\n    </tr>\n    <tr>\n      <th>6181</th>\n      <td>2022_03_ATL_SEA</td>\n      <td>3</td>\n      <td>2022-09-25</td>\n      <td>Sunday</td>\n      <td>16:25</td>\n      <td>ATL</td>\n      <td>SEA</td>\n      <td>7</td>\n      <td>7</td>\n      <td>1.0</td>\n      <td>Lumen Field</td>\n    </tr>\n    <tr>\n      <th>6182</th>\n      <td>2022_03_GB_TB</td>\n      <td>3</td>\n      <td>2022-09-25</td>\n      <td>Sunday</td>\n      <td>16:25</td>\n      <td>GB</td>\n      <td>TB</td>\n      <td>7</td>\n      <td>7</td>\n      <td>1.0</td>\n      <td>Raymond James Stadium</td>\n    </tr>\n    <tr>\n      <th>6183</th>\n      <td>2022_03_SF_DEN</td>\n      <td>3</td>\n      <td>2022-09-25</td>\n      <td>Sunday</td>\n      <td>20:20</td>\n      <td>SF</td>\n      <td>DEN</td>\n      <td>7</td>\n      <td>7</td>\n      <td>-1.0</td>\n      <td>Empower Field at Mile High</td>\n    </tr>\n    <tr>\n      <th>6184</th>\n      <td>2022_03_DAL_NYG</td>\n      <td>3</td>\n      <td>2022-09-26</td>\n      <td>Monday</td>\n      <td>20:15</td>\n      <td>DAL</td>\n      <td>NYG</td>\n      <td>8</td>\n      <td>8</td>\n      <td>1.0</td>\n      <td>MetLife Stadium</td>\n    </tr>\n  </tbody>\n</table>\n</div>"
     },
     "execution_count": 22,
     "metadata": {},
     "output_type": "execute_result"
    }
   ],
   "source": [
    "week_schedule_df = make_week_schedule(yearly_schedule_2022_df, 3)\n",
    "week_schedule_df"
   ],
   "metadata": {
    "collapsed": false,
    "pycharm": {
     "name": "#%%\n"
    }
   }
  },
  {
   "cell_type": "markdown",
   "source": [
    "#### PIPELINE - Getting a list of gameday texts"
   ],
   "metadata": {
    "collapsed": false,
    "pycharm": {
     "name": "#%% md\n"
    }
   }
  },
  {
   "cell_type": "code",
   "execution_count": 23,
   "outputs": [],
   "source": [
    "TEXT_AT_SIGN = \"@\"\n",
    "TEXT_DASH_SIGN = \"-\"\n",
    "TEXT_REST = \"rested\"\n",
    "TEXT_DAYS = \"days\"\n",
    "TEXT_SPREAD = \"Spread is\"\n",
    "TEXT_SPACE = \" \"\n",
    "\n",
    "\n",
    "def make_list_of_dicts_with_gameday_info(weekly_schedule):\n",
    "    \"\"\"\n",
    "    Function creates a dictionary containing key gameday information for each weekly matchup and appends it to a list\n",
    "    :param weekly_schedule: Dataframe containing a weeks NFL schedule\n",
    "    :return: List containing a dictionary of each matchup\n",
    "    \"\"\"\n",
    "    game_info_list_of_dicts = list()\n",
    "    game_info_dict = dict()\n",
    "    for index, row in week_schedule_df.iterrows():\n",
    "        game_info_dict[\"game_id\"] = row[\"game_id\"]\n",
    "        game_info_dict[\"away_team\"] = row[\"away_team\"]\n",
    "        game_info_dict[\"home_team\"] = row[\"home_team\"]\n",
    "        game_info_dict[\"weekday\"] = row[\"weekday\"]\n",
    "        game_info_dict[\"gametime\"] = row[\"gametime\"]\n",
    "        game_info_dict[\"stadium\"] = row[\"stadium\"]\n",
    "        game_info_dict[\"away_rest\"] = row[\"away_rest\"]\n",
    "        game_info_dict[\"home_rest\"] = row[\"home_rest\"]\n",
    "        game_info_dict[\"spread_line\"] = row[\"spread_line\"]\n",
    "        game_info_list_of_dicts.append(game_info_dict.copy())\n",
    "    return game_info_list_of_dicts\n",
    "\n",
    "\n",
    "def make_matchup_texts(game_info):\n",
    "    \"\"\"\n",
    "    Function makes the Away vs Home text, Gameday/Time/Place text and Away/Home Rest and Spread text\n",
    "    :param game_info: Dictionary containing gameday information text\n",
    "    :return: three text strings\n",
    "    \"\"\"\n",
    "    game_id = game_info[\"game_id\"]\n",
    "    away_vs_home_text = game_info[\"away_team\"] + TEXT_SPACE + TEXT_AT_SIGN + TEXT_SPACE + game_info[\"home_team\"]\n",
    "    game_day_time_place_text = game_info[\"weekday\"] + TEXT_SPACE + TEXT_DASH_SIGN + TEXT_SPACE + game_info[\"gametime\"] + TEXT_SPACE + \"ET\" + TEXT_SPACE + TEXT_AT_SIGN + TEXT_SPACE + game_info[\"stadium\"]\n",
    "    away_home_rest_and_spread_text = game_info[\"away_team\"] + TEXT_SPACE + TEXT_REST + TEXT_SPACE + str(game_info[\"away_rest\"]) + TEXT_SPACE + TEXT_DAYS + TEXT_SPACE + TEXT_DASH_SIGN + TEXT_SPACE + game_info[\"home_team\"] + TEXT_SPACE + TEXT_REST + TEXT_SPACE + str(game_info[\"home_rest\"]) + TEXT_SPACE + TEXT_DAYS + TEXT_SPACE + TEXT_DASH_SIGN + TEXT_SPACE + TEXT_SPREAD + TEXT_SPACE + str(game_info[\"spread_line\"])\n",
    "    return game_id, away_vs_home_text, game_day_time_place_text, away_home_rest_and_spread_text\n",
    "\n",
    "\n",
    "def make_single_matchup_list(game_id, away_vs_home_text, game_day_time_place_text, away_home_rest_and_spread_text):\n",
    "    \"\"\"\n",
    "    Function appends the three texts into a single matchup list\n",
    "    :param away_vs_home_text: Away vs Home text\n",
    "    :param game_day_time_place_text: Gameday/Time/Place text\n",
    "    :param away_home_rest_and_spread_text: Away/Home Rest and Spread text\n",
    "    :return: List holding all three texts\n",
    "    \"\"\"\n",
    "    away_vs_home_list = list()\n",
    "    game_day_time_place_list = list()\n",
    "    away_home_rest_and_spread_list = list()\n",
    "    away_vs_home_list.append(away_vs_home_text)\n",
    "    game_day_time_place_list.append(game_day_time_place_text)\n",
    "    away_home_rest_and_spread_list.append(away_home_rest_and_spread_text)\n",
    "    single_matchup_list = [game_id] + away_vs_home_list + game_day_time_place_list + away_home_rest_and_spread_list\n",
    "    away_vs_home_list = list()\n",
    "    game_day_time_place_list = list()\n",
    "    away_home_rest_and_spread_list = list()\n",
    "    return single_matchup_list\n",
    "\n",
    "\n",
    "def make_list_of_matchups_list(game_info_list_of_dicts):\n",
    "    \"\"\"\n",
    "    Function outputs a lists of lists containing gameday text information for each matchup\n",
    "    :param game_info_list_of_dicts: List containing a dictionary of each matchup\n",
    "    :return: Lists of lists containing gameday text information for each matchup\n",
    "    \"\"\"\n",
    "    all_matchup_list = list()\n",
    "    for i in range(len(game_info_list_of_dicts)):\n",
    "        game_id, away_vs_home_text, game_day_time_place_text, away_home_rest_and_spread_text = make_matchup_texts(game_info_list_of_dicts[i])\n",
    "        single_matchup_list = make_single_matchup_list(game_id, away_vs_home_text, game_day_time_place_text, away_home_rest_and_spread_text)\n",
    "        all_matchup_list.append(single_matchup_list)\n",
    "    return all_matchup_list\n",
    "\n",
    "\n",
    "def pipeline_make_matchup_text_lists(weekly_schedule):\n",
    "    \"\"\"\n",
    "    Function pipelines the process required to output a lists of lists containing gameday text information for each matchup\n",
    "    :param weekly_schedule: Dataframe containing a weeks NFL schedule\n",
    "    :return: Lists of lists containing gameday text information for each matchup\n",
    "    \"\"\"\n",
    "    game_info_list_of_dicts = make_list_of_dicts_with_gameday_info(weekly_schedule)\n",
    "    all_matchup_list = make_list_of_matchups_list(game_info_list_of_dicts)\n",
    "    return all_matchup_list"
   ],
   "metadata": {
    "collapsed": false,
    "pycharm": {
     "name": "#%%\n"
    }
   }
  },
  {
   "cell_type": "code",
   "execution_count": 24,
   "outputs": [
    {
     "data": {
      "text/plain": "[['2022_03_PIT_CLE',\n  'PIT @ CLE',\n  'Thursday - 20:15 ET @ FirstEnergy Stadium',\n  'PIT rested 4 days - CLE rested 4 days - Spread is 4.5'],\n ['2022_03_NO_CAR',\n  'NO @ CAR',\n  'Sunday - 13:00 ET @ Bank of America Stadium',\n  'NO rested 7 days - CAR rested 7 days - Spread is -2.0'],\n ['2022_03_HOU_CHI',\n  'HOU @ CHI',\n  'Sunday - 13:00 ET @ Soldier Field',\n  'HOU rested 7 days - CHI rested 7 days - Spread is 3.0'],\n ['2022_03_KC_IND',\n  'KC @ IND',\n  'Sunday - 13:00 ET @ Lucas Oil Stadium',\n  'KC rested 10 days - IND rested 7 days - Spread is -4.5'],\n ['2022_03_BUF_MIA',\n  'BUF @ MIA',\n  'Sunday - 13:00 ET @ Hard Rock Stadium',\n  'BUF rested 6 days - MIA rested 7 days - Spread is -4.0'],\n ['2022_03_DET_MIN',\n  'DET @ MIN',\n  'Sunday - 13:00 ET @ U.S. Bank Stadium',\n  'DET rested 7 days - MIN rested 6 days - Spread is 6.5'],\n ['2022_03_BAL_NE',\n  'BAL @ NE',\n  'Sunday - 13:00 ET @ Gillette Stadium',\n  'BAL rested 7 days - NE rested 7 days - Spread is -2.5'],\n ['2022_03_CIN_NYJ',\n  'CIN @ NYJ',\n  'Sunday - 13:00 ET @ MetLife Stadium',\n  'CIN rested 7 days - NYJ rested 7 days - Spread is -6.5'],\n ['2022_03_LV_TEN',\n  'LV @ TEN',\n  'Sunday - 13:00 ET @ Nissan Stadium',\n  'LV rested 7 days - TEN rested 6 days - Spread is -1.5'],\n ['2022_03_PHI_WAS',\n  'PHI @ WAS',\n  'Sunday - 13:00 ET @ FedExField',\n  'PHI rested 6 days - WAS rested 7 days - Spread is -6.0'],\n ['2022_03_JAX_LAC',\n  'JAX @ LAC',\n  'Sunday - 16:05 ET @ SoFi Stadium',\n  'JAX rested 7 days - LAC rested 10 days - Spread is 6.5'],\n ['2022_03_LA_ARI',\n  'LA @ ARI',\n  'Sunday - 16:25 ET @ State Farm Stadium',\n  'LA rested 7 days - ARI rested 7 days - Spread is -3.5'],\n ['2022_03_ATL_SEA',\n  'ATL @ SEA',\n  'Sunday - 16:25 ET @ Lumen Field',\n  'ATL rested 7 days - SEA rested 7 days - Spread is 1.0'],\n ['2022_03_GB_TB',\n  'GB @ TB',\n  'Sunday - 16:25 ET @ Raymond James Stadium',\n  'GB rested 7 days - TB rested 7 days - Spread is 1.0'],\n ['2022_03_SF_DEN',\n  'SF @ DEN',\n  'Sunday - 20:20 ET @ Empower Field at Mile High',\n  'SF rested 7 days - DEN rested 7 days - Spread is -1.0'],\n ['2022_03_DAL_NYG',\n  'DAL @ NYG',\n  'Monday - 20:15 ET @ MetLife Stadium',\n  'DAL rested 8 days - NYG rested 8 days - Spread is 1.0']]"
     },
     "execution_count": 24,
     "metadata": {},
     "output_type": "execute_result"
    }
   ],
   "source": [
    "all_matchup_list = pipeline_make_matchup_text_lists(week_schedule_df)\n",
    "all_matchup_list"
   ],
   "metadata": {
    "collapsed": false,
    "pycharm": {
     "name": "#%%\n"
    }
   }
  },
  {
   "cell_type": "markdown",
   "source": [
    "Making Image Path"
   ],
   "metadata": {
    "collapsed": false,
    "pycharm": {
     "name": "#%% md\n"
    }
   }
  },
  {
   "cell_type": "code",
   "execution_count": 3,
   "outputs": [],
   "source": [
    "from PIL import Image\n",
    "\n",
    "\n",
    "TEAM_LOGO_LOCATIONS_DF = pd.read_csv(\"../data/processed/team_logo_file_locations.csv\")\n",
    "\n",
    "\n",
    "def make_team_logo_image(team_acronym):\n",
    "    \"\"\"\n",
    "    Function creates and Pillow image object from a specified file path loaded up from a dataframe\n",
    "    :param team_acronym:\n",
    "    :return:\n",
    "    \"\"\"\n",
    "    image_location = TEAM_LOGO_LOCATIONS_DF[TEAM_LOGO_LOCATIONS_DF[\"team\"] == team_acronym][\"picture_location\"].iloc[0]\n",
    "    logo = Image.open(image_location)\n",
    "    return logo"
   ],
   "metadata": {
    "collapsed": false,
    "pycharm": {
     "name": "#%%\n"
    }
   }
  },
  {
   "cell_type": "code",
   "execution_count": 9,
   "outputs": [
    {
     "data": {
      "text/plain": "<PIL.PngImagePlugin.PngImageFile image mode=RGBA size=500x500>",
      "image/png": "[encoded data removed]"
     },
     "execution_count": 9,
     "metadata": {},
     "output_type": "execute_result"
    }
   ],
   "source": [
    "from PIL import Image\n",
    "import requests\n",
    "\n",
    "im = Image.open(requests.get('https://github.com/JaumeClave/nfl_weekly_picks/blob/master/references/logos/miami_dolphins.png?raw=true', stream=True).raw)\n",
    "im"
   ],
   "metadata": {
    "collapsed": false,
    "pycharm": {
     "name": "#%%\n"
    }
   }
  },
  {
   "cell_type": "code",
   "execution_count": null,
   "outputs": [],
   "source": [
    "make_team_logo_image(\"IND\")"
   ],
   "metadata": {
    "collapsed": false,
    "pycharm": {
     "name": "#%%\n"
    }
   }
  },
  {
   "cell_type": "markdown",
   "source": [
    "Showing Submit Button when Selection Count = Length of Games"
   ],
   "metadata": {
    "collapsed": false,
    "pycharm": {
     "name": "#%% md\n"
    }
   }
  },
  {
   "cell_type": "code",
   "execution_count": null,
   "outputs": [],
   "source": [
    "# testing logic\n",
    "\n",
    "weekly_picks_dict = dict()\n",
    "\n",
    "def add_values_in_dict(dictionary, key, list_of_values):\n",
    "    \"\"\"\n",
    "    Function checks if key is present in the dictionary, if not, it creates key and extends the dictionary with list of value provided\n",
    "    :param dictionary:\n",
    "    :param key:\n",
    "    :param list_of_values:\n",
    "    :return:\n",
    "    \"\"\"\n",
    "    if key not in dictionary:\n",
    "        dictionary[key] = list()\n",
    "    dictionary[key].extend(list_of_values)\n",
    "    return dictionary"
   ],
   "metadata": {
    "collapsed": false,
    "pycharm": {
     "name": "#%%\n"
    }
   }
  },
  {
   "cell_type": "code",
   "execution_count": null,
   "outputs": [],
   "source": [
    "for _ in range(len(all_matchup_list)):\n",
    "    game_id = all_matchup_list[_][0]\n",
    "    away_team = all_matchup_list[_][1].split(\" @ \")[0]\n",
    "    home_team = all_matchup_list[_][1].split(\" @ \")[1]\n",
    "    add_values_in_dict(weekly_picks_dict, game_id, [home_team])"
   ],
   "metadata": {
    "collapsed": false,
    "pycharm": {
     "name": "#%%\n"
    }
   }
  },
  {
   "cell_type": "code",
   "execution_count": null,
   "outputs": [],
   "source": [
    "weekly_picks_dict"
   ],
   "metadata": {
    "collapsed": false,
    "pycharm": {
     "name": "#%%\n"
    }
   }
  },
  {
   "cell_type": "markdown",
   "source": [
    "##### Inserting Users Weekly Picks into Picks Table"
   ],
   "metadata": {
    "collapsed": false,
    "pycharm": {
     "name": "#%% md\n"
    }
   }
  },
  {
   "cell_type": "code",
   "execution_count": null,
   "outputs": [],
   "source": [
    "def make_weekly_picks_df(weekly_picks_dict, user_id):\n",
    "    \"\"\"\n",
    "    Function creates a dataframe containing user_id and the users respective weekly matchup winning picks\n",
    "    :param weekly_picks_dict: Dictionary containing game_id as a key and the winning pick as a value\n",
    "    :param user_id: ID of user\n",
    "    :return: Dataframe containing user id and weekly winning picks\n",
    "    \"\"\"\n",
    "    weekly_picks_df = pd.DataFrame(weekly_picks_dict).T.reset_index()\n",
    "    weekly_picks_df.columns = [\"game_id\", \"winning_pick\"]\n",
    "    weekly_picks_df[\"user_id\"] = user_id\n",
    "    weekly_picks_df[\"user_id_game_id\"] = weekly_picks_df[\"user_id\"].astype(str) + \"_\" + weekly_picks_df[\"game_id\"]\n",
    "    return weekly_picks_df"
   ],
   "metadata": {
    "collapsed": false,
    "pycharm": {
     "name": "#%%\n"
    }
   }
  },
  {
   "cell_type": "code",
   "execution_count": null,
   "outputs": [],
   "source": [
    "user_id = 3\n",
    "\n",
    "weekly_picks_df = make_weekly_picks_df(weekly_picks_dict, user_id)\n",
    "weekly_picks_df"
   ],
   "metadata": {
    "collapsed": false,
    "pycharm": {
     "name": "#%%\n"
    }
   }
  },
  {
   "cell_type": "code",
   "execution_count": 1,
   "outputs": [],
   "source": [
    "import psycopg2\n",
    "from psycopg2 import Error\n",
    "\n",
    "\n",
    "USER = \"postgres\"\n",
    "PASSWORD = \"Barca2011\"\n",
    "DATABASE = \"nfl_weekly_picks\"\n",
    "HOST = \"localhost\"\n",
    "\n",
    "\n",
    "def connect_to_postgres_database(user, password, database, host=\"127.0.0.1\", port=\"5432\"):\n",
    "    \"\"\"\n",
    "    Function connects to a database and returns the cursor object\n",
    "    :param user: database username\n",
    "    :param password: database password\n",
    "    :param database: database name\n",
    "    :param host: server location\n",
    "    :param port: listening port\n",
    "    :return: psycopg2 cursor object\n",
    "    \"\"\"\n",
    "    try:\n",
    "        con = psycopg2.connect(user=user,\n",
    "                               password=password,\n",
    "                               database=database,\n",
    "                               host=host,\n",
    "                               port=port)\n",
    "        cursor = con.cursor()\n",
    "    except (Exception, Error) as error:\n",
    "        print(\"Error while connecting to PostgreSQL\", error)\n",
    "    return con, cursor\n",
    "\n",
    "\n",
    "def cursor_execute_tuple(command, data_tuple):\n",
    "    \"\"\"\n",
    "    Function uses the cursor object to execute a command with a tuple pair. It commits and rollsback if error\n",
    "    :param command: SQL query to be executed\n",
    "    :param data_tuple: data pairing for SQL query variables\n",
    "    :return:\n",
    "    \"\"\"\n",
    "    try:\n",
    "        cursor.execute(command, data_tuple)\n",
    "        con.commit()\n",
    "        print(\"Successfully executed the command\")\n",
    "    except (Exception, psycopg2.DatabaseError) as error:\n",
    "        print(\"Error: %s\" % error)\n",
    "        con.rollback()\n",
    "        print(\"Could not successfully execute the command\")\n",
    "    return None"
   ],
   "metadata": {
    "collapsed": false,
    "pycharm": {
     "name": "#%%\n"
    }
   }
  },
  {
   "cell_type": "code",
   "execution_count": 2,
   "outputs": [],
   "source": [
    "con, cursor = connect_to_postgres_database(USER, PASSWORD, DATABASE, HOST, port=\"5432\")"
   ],
   "metadata": {
    "collapsed": false,
    "pycharm": {
     "name": "#%%\n"
    }
   }
  },
  {
   "cell_type": "markdown",
   "source": [
    "Pipeline - Weekly Picks DF to Weekly Picks Table"
   ],
   "metadata": {
    "collapsed": false,
    "pycharm": {
     "name": "#%% md\n"
    }
   }
  },
  {
   "cell_type": "code",
   "execution_count": 5,
   "outputs": [],
   "source": [
    "from sqlalchemy import create_engine\n",
    "\n",
    "\n",
    "def make_current_picks_df(user_id):\n",
    "    \"\"\"\n",
    "    Function queries the winning_picks table and returns a Pandas DataFrame for the specified users data\n",
    "    :param user_id: user_id key\n",
    "    :return: Dataframe\n",
    "    \"\"\"\n",
    "    engine = create_engine(\"postgresql+psycopg2://\" + USER + \":\" + PASSWORD + \"@\" + HOST + \"/\" + DATABASE)\n",
    "    query = \"\"\"\n",
    "         SELECT user_id, game_id, winning_pick\n",
    "         FROM winning_picks\n",
    "         WHERE user_id=%(user_id)s\n",
    "         ;\n",
    "         \"\"\"\n",
    "    current_picks_df = pd.read_sql_query(query, con=engine, params={\"user_id\": user_id})\n",
    "    return current_picks_df\n",
    "\n",
    "\n",
    "def make_insert_into_weekly_picks_table(user_id_game_id, user_id, game_id, winning_pick, timestamp):\n",
    "    \"\"\"\n",
    "    Function inserts the weekly_picks_df into the weekly_picks table. It uses the INSERT INTO along with the ON CONFLICT DO UPDATE SET clause in order to update the winning_picks field when the user_id_game_id is already in that table\n",
    "    :param user_id_game_id: user_id and game_id key\n",
    "    :param user_id: user_id key\n",
    "    :param game_id: game_id key\n",
    "    :param winning_pick: winning team pick\n",
    "    :param timestamp: datetime\n",
    "    :return: None\n",
    "    \"\"\"\n",
    "    query = \"\"\"\n",
    "                 INSERT INTO winning_picks (user_id_game_id, user_id, game_id, winning_pick, timestamp_added)\n",
    "                 VALUES (%s, %s, %s, %s, %s)\n",
    "                 ON CONFLICT (user_id_game_id) DO UPDATE SET\n",
    "                 (user_id, game_id, winning_pick, timestamp_added) = (EXCLUDED.user_id, EXCLUDED.game_id, EXCLUDED.winning_pick, EXCLUDED.timestamp_added);\n",
    "            \"\"\"\n",
    "    data_tuple = (user_id_game_id, user_id, game_id, winning_pick, timestamp)\n",
    "    cursor_execute_tuple(query, data_tuple)\n",
    "    return None\n",
    "\n",
    "\n",
    "def make_logical_insert_into_weekly_picks_table(weekly_picks_df):\n",
    "    \"\"\"\n",
    "    Function holds the logic used to insert matchups when they don't exist and update them when they differ from their current value\n",
    "    :param weekly_picks_df: Dataframe containing user id and weekly winning picks\n",
    "    :return:\n",
    "    \"\"\"\n",
    "    current_picks_df = make_current_picks_df(user_id)\n",
    "    timestamp = datetime.datetime.now()\n",
    "    for index, row in weekly_picks_df.iterrows():\n",
    "        temp_df = current_picks_df[current_picks_df[\"game_id\"] == row[\"game_id\"]]\n",
    "        if len(temp_df) == 0: # If not game_id record exists then upload matchup\n",
    "            make_insert_into_weekly_picks_table(row[\"user_id_game_id\"], row[\"user_id\"], row[\"game_id\"], row[\"winning_pick\"], timestamp)\n",
    "        elif temp_df[\"winning_pick\"].iloc[0] == row[\"winning_pick\"]: # If game_id exists and winning pick is unchanged then pass\n",
    "            pass\n",
    "        elif temp_df[\"winning_pick\"].iloc[0] != row[\"winning_pick\"]: # If game_id exists and winning pick is different then upload matchup\n",
    "            make_insert_into_weekly_picks_table(row[\"user_id_game_id\"], row[\"user_id\"], row[\"game_id\"], row[\"winning_pick\"], timestamp)\n",
    "    return None\n",
    "\n",
    "\n",
    "def pipeline_make_insert_into_weekly_picks_table(weekly_picks_dict, user_id):\n",
    "    \"\"\"\n",
    "    Function pipelines the process required to insert the weekly_picks_df into the weekly_picks table\n",
    "    :param weekly_picks_dict: Dictionary containing game_id as a key and the winning pick as a value\n",
    "    :param user_id: ID of user\n",
    "    \"\"\"\n",
    "    weekly_picks_df = make_weekly_picks_df(weekly_picks_dict, user_id)\n",
    "    make_insert_into_weekly_picks_table(weekly_picks_df)\n",
    "    return None"
   ],
   "metadata": {
    "collapsed": false,
    "pycharm": {
     "name": "#%%\n"
    }
   }
  },
  {
   "cell_type": "code",
   "execution_count": null,
   "outputs": [],
   "source": [
    "pipeline_make_insert_into_weekly_picks_table(weekly_picks_dict, user_id)"
   ],
   "metadata": {
    "collapsed": false,
    "pycharm": {
     "name": "#%%\n"
    }
   }
  },
  {
   "cell_type": "markdown",
   "source": [
    "#### Matchup Countdown"
   ],
   "metadata": {
    "collapsed": false,
    "pycharm": {
     "name": "#%% md\n"
    }
   }
  },
  {
   "cell_type": "code",
   "execution_count": null,
   "outputs": [],
   "source": [
    "week_schedule_df = make_week_schedule(yearly_schedule_2022_df, 3)\n",
    "week_schedule_df"
   ],
   "metadata": {
    "collapsed": false,
    "pycharm": {
     "name": "#%%\n"
    }
   }
  },
  {
   "cell_type": "code",
   "execution_count": null,
   "outputs": [],
   "source": [
    "def make_gamedaytime_timedelta(week_schedule_df, game_id):\n",
    "    \"\"\"\n",
    "    Function makes a timestamp from a game_id\n",
    "    :param week_schedule_df: Dataframe containing a weeks NFL schedule\n",
    "    :param game_id: game_id key\n",
    "    :return: Timestamp\n",
    "    \"\"\"\n",
    "    gametime_df = week_schedule_df[[\"game_id\", \"gameday\", \"gametime\", \"weekday\"]]\n",
    "    gametime_df[\"gamedaytime\"] = gametime_df[\"gameday\"].astype(str) + \" \" + gametime_df[\"gametime\"]\n",
    "    gametime_df[\"gamedaytime\"] = pd.to_datetime(gametime_df[\"gamedaytime\"])\n",
    "    timestamp = gametime_df[gametime_df[\"game_id\"] == game_id][\"gamedaytime\"].iloc[0]\n",
    "    return timestamp"
   ],
   "metadata": {
    "collapsed": false,
    "pycharm": {
     "name": "#%%\n"
    }
   }
  },
  {
   "cell_type": "code",
   "execution_count": null,
   "outputs": [],
   "source": [
    "timestamp = make_gamedaytime_timedelta(week_schedule_df, \"2022_03_NO_CAR\")\n",
    "timestamp"
   ],
   "metadata": {
    "collapsed": false,
    "pycharm": {
     "name": "#%%\n"
    }
   }
  },
  {
   "cell_type": "code",
   "execution_count": null,
   "outputs": [],
   "source": [
    "def make_time_to_game(timestamp):\n",
    "    \"\"\"\n",
    "    Function finds the difference between two times\n",
    "    :param timestamp: Timestamp object\n",
    "    :return: Timedelta difference between now and gametime\n",
    "    \"\"\"\n",
    "    time_now = datetime.datetime.now()\n",
    "    timedelta_difference = timestamp - time_now\n",
    "    return timedelta_difference"
   ],
   "metadata": {
    "collapsed": false,
    "pycharm": {
     "name": "#%%\n"
    }
   }
  },
  {
   "cell_type": "code",
   "execution_count": null,
   "outputs": [],
   "source": [
    "timedelta_difference = make_time_to_game(timestamp)\n",
    "timedelta_difference"
   ],
   "metadata": {
    "collapsed": false,
    "pycharm": {
     "name": "#%%\n"
    }
   }
  },
  {
   "cell_type": "code",
   "execution_count": null,
   "outputs": [],
   "source": [
    "def make_days_hours_minutes(timedelta):\n",
    "    \"\"\"\n",
    "    Function returns a tuple containing the days, hours and minutes from a Timedelta object\n",
    "    :param timedelta: Timedelta object\n",
    "    :return: dtuple containing the days, hours and minutes\n",
    "    \"\"\"\n",
    "    days = timedelta.days\n",
    "    hours = timedelta.seconds//3600\n",
    "    minutes = (timedelta.seconds//60)%60\n",
    "    if days < 0:\n",
    "        days = 0\n",
    "        hours = 0\n",
    "        minutes = 0\n",
    "        return days, hours, minutes\n",
    "    return days, hours, minutes"
   ],
   "metadata": {
    "collapsed": false,
    "pycharm": {
     "name": "#%%\n"
    }
   }
  },
  {
   "cell_type": "code",
   "execution_count": null,
   "outputs": [],
   "source": [
    "days, hours, minutes = make_days_hours_minutes(timedelta_difference)\n",
    "days, hours, minutes"
   ],
   "metadata": {
    "collapsed": false,
    "pycharm": {
     "name": "#%%\n"
    }
   }
  },
  {
   "cell_type": "code",
   "execution_count": null,
   "outputs": [],
   "source": [
    "def make_countdown_text(days, hours, minutes):\n",
    "    \"\"\"\n",
    "    Function creates the text output to be displayed during the countdown\n",
    "    :param days: Int - days left\n",
    "    :param hours: Int - hours left\n",
    "    :param minutes: Int - minutes left\n",
    "    :return: Countdown text\n",
    "    \"\"\"\n",
    "    days_text = \"{} days\".format(days)\n",
    "    hours_text = \"{} hours\".format(hours)\n",
    "    minutes_text = \"{} minutes\".format(minutes)\n",
    "    countdown_text = days_text + \" : \" + hours_text + \" : \" + minutes_text + \" to make your picks...\"\n",
    "    return countdown_text"
   ],
   "metadata": {
    "collapsed": false,
    "pycharm": {
     "name": "#%%\n"
    }
   }
  },
  {
   "cell_type": "code",
   "execution_count": null,
   "outputs": [],
   "source": [
    "countdown_text = make_countdown_text(days, hours, minutes)"
   ],
   "metadata": {
    "collapsed": false,
    "pycharm": {
     "name": "#%%\n"
    }
   }
  },
  {
   "cell_type": "code",
   "execution_count": null,
   "outputs": [],
   "source": [
    "import pytz\n",
    "\n",
    "\n",
    "def make_gamedaytime_timedelta(week_schedule_df, game_id):\n",
    "    \"\"\"\n",
    "    Function makes a timestamp from a game_id\n",
    "    :param week_schedule_df: Dataframe containing a weeks NFL schedule\n",
    "    :param game_id: game_id key\n",
    "    :return: Timestamp\n",
    "    \"\"\"\n",
    "    gametime_df = week_schedule_df[[\"game_id\", \"gameday\", \"gametime\", \"weekday\"]]\n",
    "    gametime_df[\"gamedaytime\"] = gametime_df[\"gameday\"].astype(str) + \" \" + gametime_df[\"gametime\"]\n",
    "    gametime_df[\"gamedaytime\"] = pd.to_datetime(gametime_df[\"gamedaytime\"])\n",
    "    timestamp = gametime_df[gametime_df[\"game_id\"] == game_id][\"gamedaytime\"].iloc[0]\n",
    "    return timestamp\n",
    "\n",
    "\n",
    "def make_time_to_game(timestamp):\n",
    "    \"\"\"\n",
    "    Function finds the difference between two times\n",
    "    :param timestamp: Timestamp object\n",
    "    :return: Timedelta difference between now and gametime\n",
    "    \"\"\"\n",
    "    tz = pytz.timezone('US/Eastern')\n",
    "    time_now = datetime.datetime.now(tz=tz).replace(tzinfo=None)\n",
    "    timedelta_difference = timestamp - time_now\n",
    "    return timedelta_difference\n",
    "\n",
    "\n",
    "def make_days_hours_minutes(timedelta):\n",
    "    \"\"\"\n",
    "    Function returns a tuple containing the days, hours and minutes from a Timedelta object\n",
    "    :param timedelta: Timedelta object\n",
    "    :return: dtuple containing the days, hours and minutes\n",
    "    \"\"\"\n",
    "    days = timedelta.days\n",
    "    hours = timedelta.seconds//3600\n",
    "    minutes = (timedelta.seconds//60)%60\n",
    "    if days < 0:\n",
    "        days = 0\n",
    "        hours = 0\n",
    "        minutes = 0\n",
    "        return days, hours, minutes\n",
    "    return days, hours, minutes\n",
    "\n",
    "\n",
    "def make_countdown_text(days, hours, minutes):\n",
    "    \"\"\"\n",
    "    Function creates the text output to be displayed during the countdown\n",
    "    :param days: Int - days left\n",
    "    :param hours: Int - hours left\n",
    "    :param minutes: Int - minutes left\n",
    "    :return: Countdown text\n",
    "    \"\"\"\n",
    "    if days == 0 and hours == 0 and minutes == 0:\n",
    "        countdown_text = \"Game has started - You can't make a pick post-kickoff\"\n",
    "    else:\n",
    "        if days == 1:\n",
    "            day_var = \"day\"\n",
    "        else:\n",
    "            day_var = \"days\"\n",
    "        if hours == 1:\n",
    "            hour_var = \"hour\"\n",
    "        else:\n",
    "            hour_var = \"hours\"\n",
    "        if minutes == 1:\n",
    "            minute_var = \"minute\"\n",
    "        else:\n",
    "            minute_var = \"minutes\"\n",
    "        days_text = \"{} {}\".format(days, day_var)\n",
    "        hours_text = \"{} {}\".format(hours, hour_var)\n",
    "        minutes_text = \"{} {}\".format(minutes, minute_var)\n",
    "        countdown_text = days_text + \" : \" + hours_text + \" : \" + minutes_text + \" to make your picks...\"\n",
    "    return countdown_text\n",
    "\n",
    "\n",
    "def pipeline_make_countdown_text(week_schedule_df, game_id):\n",
    "    \"\"\"\n",
    "    Function pipelines the process required to output the countdown text for a game\n",
    "    :param week_schedule_df: Dataframe containing a weeks NFL schedule\n",
    "    :param game_id: game_id key\n",
    "    :return: Countdown text\n",
    "    \"\"\"\n",
    "    game_timestamp = make_gamedaytime_timedelta(week_schedule_df, game_id)\n",
    "    timedelta_difference = make_time_to_game(game_timestamp)\n",
    "    days, hours, minutes = make_days_hours_minutes(timedelta_difference)\n",
    "    countdown_text = make_countdown_text(days, hours, minutes)\n",
    "    return days, hours, minutes, countdown_text"
   ],
   "metadata": {
    "collapsed": false,
    "pycharm": {
     "name": "#%%\n"
    }
   }
  },
  {
   "cell_type": "code",
   "execution_count": null,
   "outputs": [],
   "source": [
    "# gameid = \"2022_03_PIT_CLE\"\n",
    "gameid = \"2022_03_NO_CAR\"\n",
    "\n",
    "countdown_text = pipeline_make_countdown_text(week_schedule_df, gameid)[3]\n",
    "countdown_text"
   ],
   "metadata": {
    "collapsed": false,
    "pycharm": {
     "name": "#%%\n"
    }
   }
  },
  {
   "cell_type": "markdown",
   "source": [
    "### Getting Winning Games\n",
    "This section will live in the Learderboard page"
   ],
   "metadata": {
    "collapsed": false,
    "pycharm": {
     "name": "#%% md\n"
    }
   }
  },
  {
   "cell_type": "code",
   "execution_count": 6,
   "outputs": [],
   "source": [
    "def make_nfl_game_scores_df():\n",
    "    \"\"\"\n",
    "    Function makes a dataframe containing key data for NFL games which have been played\n",
    "    :return: Pandas DataFrame\n",
    "    \"\"\"\n",
    "    yearly_schedule_2022_df = make_yearly_schedule(2022)\n",
    "    games_with_scores_df = yearly_schedule_2022_df[(yearly_schedule_2022_df[\"away_score\"].notna()) & (yearly_schedule_2022_df[\"home_score\"].notna())]\n",
    "    games_with_scores_df = games_with_scores_df[[\"game_id\", \"week\", \"away_team\", \"away_score\", \"home_team\", \"home_score\"]]\n",
    "    return games_with_scores_df"
   ],
   "metadata": {
    "collapsed": false,
    "pycharm": {
     "name": "#%%\n"
    }
   }
  },
  {
   "cell_type": "code",
   "execution_count": 7,
   "outputs": [
    {
     "data": {
      "text/plain": "              game_id  week away_team  away_score home_team  home_score\n6137   2022_01_BUF_LA     1       BUF        31.0        LA        10.0\n6138   2022_01_NO_ATL     1        NO        27.0       ATL        26.0\n6139  2022_01_CLE_CAR     1       CLE        26.0       CAR        24.0\n6140   2022_01_SF_CHI     1        SF        10.0       CHI        19.0\n6141  2022_01_PIT_CIN     1       PIT        23.0       CIN        20.0\n6142  2022_01_PHI_DET     1       PHI        38.0       DET        35.0\n6143  2022_01_IND_HOU     1       IND        20.0       HOU        20.0\n6144   2022_01_NE_MIA     1        NE         7.0       MIA        20.0\n6145  2022_01_BAL_NYJ     1       BAL        24.0       NYJ         9.0\n6146  2022_01_JAX_WAS     1       JAX        22.0       WAS        28.0\n6147   2022_01_KC_ARI     1        KC        44.0       ARI        21.0\n6148   2022_01_LV_LAC     1        LV        19.0       LAC        24.0\n6149   2022_01_GB_MIN     1        GB         7.0       MIN        23.0\n6150  2022_01_NYG_TEN     1       NYG        21.0       TEN        20.0\n6151   2022_01_TB_DAL     1        TB        19.0       DAL         3.0\n6152  2022_01_DEN_SEA     1       DEN        16.0       SEA        17.0\n6153   2022_02_LAC_KC     2       LAC        24.0        KC        27.0\n6154  2022_02_MIA_BAL     2       MIA        42.0       BAL        38.0\n6155  2022_02_NYJ_CLE     2       NYJ        31.0       CLE        30.0\n6156  2022_02_WAS_DET     2       WAS        27.0       DET        36.0\n6157  2022_02_IND_JAX     2       IND         0.0       JAX        24.0\n6158    2022_02_TB_NO     2        TB        20.0        NO        10.0\n6159  2022_02_CAR_NYG     2       CAR        16.0       NYG        19.0\n6160   2022_02_NE_PIT     2        NE        17.0       PIT        14.0\n6161   2022_02_ATL_LA     2       ATL        27.0        LA        31.0\n6162   2022_02_SEA_SF     2       SEA         7.0        SF        27.0\n6163  2022_02_CIN_DAL     2       CIN        17.0       DAL        20.0\n6164  2022_02_HOU_DEN     2       HOU         9.0       DEN        16.0\n6165   2022_02_ARI_LV     2       ARI        29.0        LV        23.0\n6166   2022_02_CHI_GB     2       CHI        10.0        GB        27.0\n6167  2022_02_TEN_BUF     2       TEN         7.0       BUF        41.0\n6168  2022_02_MIN_PHI     2       MIN         7.0       PHI        24.0\n6169  2022_03_PIT_CLE     3       PIT        17.0       CLE        29.0\n6170   2022_03_NO_CAR     3        NO        14.0       CAR        22.0\n6171  2022_03_HOU_CHI     3       HOU        20.0       CHI        23.0\n6172   2022_03_KC_IND     3        KC        17.0       IND        20.0\n6173  2022_03_BUF_MIA     3       BUF        19.0       MIA        21.0\n6174  2022_03_DET_MIN     3       DET        24.0       MIN        28.0\n6175   2022_03_BAL_NE     3       BAL        37.0        NE        26.0\n6176  2022_03_CIN_NYJ     3       CIN        27.0       NYJ        12.0\n6177   2022_03_LV_TEN     3        LV        22.0       TEN        24.0\n6178  2022_03_PHI_WAS     3       PHI        24.0       WAS         8.0\n6179  2022_03_JAX_LAC     3       JAX        38.0       LAC        10.0\n6180   2022_03_LA_ARI     3        LA        20.0       ARI        12.0\n6181  2022_03_ATL_SEA     3       ATL        27.0       SEA        23.0\n6182    2022_03_GB_TB     3        GB        14.0        TB        12.0\n6183   2022_03_SF_DEN     3        SF        10.0       DEN        11.0",
      "text/html": "<div>\n<style scoped>\n    .dataframe tbody tr th:only-of-type {\n        vertical-align: middle;\n    }\n\n    .dataframe tbody tr th {\n        vertical-align: top;\n    }\n\n    .dataframe thead th {\n        text-align: right;\n    }\n</style>\n<table border=\"1\" class=\"dataframe\">\n  <thead>\n    <tr style=\"text-align: right;\">\n      <th></th>\n      <th>game_id</th>\n      <th>week</th>\n      <th>away_team</th>\n      <th>away_score</th>\n      <th>home_team</th>\n      <th>home_score</th>\n    </tr>\n  </thead>\n  <tbody>\n    <tr>\n      <th>6137</th>\n      <td>2022_01_BUF_LA</td>\n      <td>1</td>\n      <td>BUF</td>\n      <td>31.0</td>\n      <td>LA</td>\n      <td>10.0</td>\n    </tr>\n    <tr>\n      <th>6138</th>\n      <td>2022_01_NO_ATL</td>\n      <td>1</td>\n      <td>NO</td>\n      <td>27.0</td>\n      <td>ATL</td>\n      <td>26.0</td>\n    </tr>\n    <tr>\n      <th>6139</th>\n      <td>2022_01_CLE_CAR</td>\n      <td>1</td>\n      <td>CLE</td>\n      <td>26.0</td>\n      <td>CAR</td>\n      <td>24.0</td>\n    </tr>\n    <tr>\n      <th>6140</th>\n      <td>2022_01_SF_CHI</td>\n      <td>1</td>\n      <td>SF</td>\n      <td>10.0</td>\n      <td>CHI</td>\n      <td>19.0</td>\n    </tr>\n    <tr>\n      <th>6141</th>\n      <td>2022_01_PIT_CIN</td>\n      <td>1</td>\n      <td>PIT</td>\n      <td>23.0</td>\n      <td>CIN</td>\n      <td>20.0</td>\n    </tr>\n    <tr>\n      <th>6142</th>\n      <td>2022_01_PHI_DET</td>\n      <td>1</td>\n      <td>PHI</td>\n      <td>38.0</td>\n      <td>DET</td>\n      <td>35.0</td>\n    </tr>\n    <tr>\n      <th>6143</th>\n      <td>2022_01_IND_HOU</td>\n      <td>1</td>\n      <td>IND</td>\n      <td>20.0</td>\n      <td>HOU</td>\n      <td>20.0</td>\n    </tr>\n    <tr>\n      <th>6144</th>\n      <td>2022_01_NE_MIA</td>\n      <td>1</td>\n      <td>NE</td>\n      <td>7.0</td>\n      <td>MIA</td>\n      <td>20.0</td>\n    </tr>\n    <tr>\n      <th>6145</th>\n      <td>2022_01_BAL_NYJ</td>\n      <td>1</td>\n      <td>BAL</td>\n      <td>24.0</td>\n      <td>NYJ</td>\n      <td>9.0</td>\n    </tr>\n    <tr>\n      <th>6146</th>\n      <td>2022_01_JAX_WAS</td>\n      <td>1</td>\n      <td>JAX</td>\n      <td>22.0</td>\n      <td>WAS</td>\n      <td>28.0</td>\n    </tr>\n    <tr>\n      <th>6147</th>\n      <td>2022_01_KC_ARI</td>\n      <td>1</td>\n      <td>KC</td>\n      <td>44.0</td>\n      <td>ARI</td>\n      <td>21.0</td>\n    </tr>\n    <tr>\n      <th>6148</th>\n      <td>2022_01_LV_LAC</td>\n      <td>1</td>\n      <td>LV</td>\n      <td>19.0</td>\n      <td>LAC</td>\n      <td>24.0</td>\n    </tr>\n    <tr>\n      <th>6149</th>\n      <td>2022_01_GB_MIN</td>\n      <td>1</td>\n      <td>GB</td>\n      <td>7.0</td>\n      <td>MIN</td>\n      <td>23.0</td>\n    </tr>\n    <tr>\n      <th>6150</th>\n      <td>2022_01_NYG_TEN</td>\n      <td>1</td>\n      <td>NYG</td>\n      <td>21.0</td>\n      <td>TEN</td>\n      <td>20.0</td>\n    </tr>\n    <tr>\n      <th>6151</th>\n      <td>2022_01_TB_DAL</td>\n      <td>1</td>\n      <td>TB</td>\n      <td>19.0</td>\n      <td>DAL</td>\n      <td>3.0</td>\n    </tr>\n    <tr>\n      <th>6152</th>\n      <td>2022_01_DEN_SEA</td>\n      <td>1</td>\n      <td>DEN</td>\n      <td>16.0</td>\n      <td>SEA</td>\n      <td>17.0</td>\n    </tr>\n    <tr>\n      <th>6153</th>\n      <td>2022_02_LAC_KC</td>\n      <td>2</td>\n      <td>LAC</td>\n      <td>24.0</td>\n      <td>KC</td>\n      <td>27.0</td>\n    </tr>\n    <tr>\n      <th>6154</th>\n      <td>2022_02_MIA_BAL</td>\n      <td>2</td>\n      <td>MIA</td>\n      <td>42.0</td>\n      <td>BAL</td>\n      <td>38.0</td>\n    </tr>\n    <tr>\n      <th>6155</th>\n      <td>2022_02_NYJ_CLE</td>\n      <td>2</td>\n      <td>NYJ</td>\n      <td>31.0</td>\n      <td>CLE</td>\n      <td>30.0</td>\n    </tr>\n    <tr>\n      <th>6156</th>\n      <td>2022_02_WAS_DET</td>\n      <td>2</td>\n      <td>WAS</td>\n      <td>27.0</td>\n      <td>DET</td>\n      <td>36.0</td>\n    </tr>\n    <tr>\n      <th>6157</th>\n      <td>2022_02_IND_JAX</td>\n      <td>2</td>\n      <td>IND</td>\n      <td>0.0</td>\n      <td>JAX</td>\n      <td>24.0</td>\n    </tr>\n    <tr>\n      <th>6158</th>\n      <td>2022_02_TB_NO</td>\n      <td>2</td>\n      <td>TB</td>\n      <td>20.0</td>\n      <td>NO</td>\n      <td>10.0</td>\n    </tr>\n    <tr>\n      <th>6159</th>\n      <td>2022_02_CAR_NYG</td>\n      <td>2</td>\n      <td>CAR</td>\n      <td>16.0</td>\n      <td>NYG</td>\n      <td>19.0</td>\n    </tr>\n    <tr>\n      <th>6160</th>\n      <td>2022_02_NE_PIT</td>\n      <td>2</td>\n      <td>NE</td>\n      <td>17.0</td>\n      <td>PIT</td>\n      <td>14.0</td>\n    </tr>\n    <tr>\n      <th>6161</th>\n      <td>2022_02_ATL_LA</td>\n      <td>2</td>\n      <td>ATL</td>\n      <td>27.0</td>\n      <td>LA</td>\n      <td>31.0</td>\n    </tr>\n    <tr>\n      <th>6162</th>\n      <td>2022_02_SEA_SF</td>\n      <td>2</td>\n      <td>SEA</td>\n      <td>7.0</td>\n      <td>SF</td>\n      <td>27.0</td>\n    </tr>\n    <tr>\n      <th>6163</th>\n      <td>2022_02_CIN_DAL</td>\n      <td>2</td>\n      <td>CIN</td>\n      <td>17.0</td>\n      <td>DAL</td>\n      <td>20.0</td>\n    </tr>\n    <tr>\n      <th>6164</th>\n      <td>2022_02_HOU_DEN</td>\n      <td>2</td>\n      <td>HOU</td>\n      <td>9.0</td>\n      <td>DEN</td>\n      <td>16.0</td>\n    </tr>\n    <tr>\n      <th>6165</th>\n      <td>2022_02_ARI_LV</td>\n      <td>2</td>\n      <td>ARI</td>\n      <td>29.0</td>\n      <td>LV</td>\n      <td>23.0</td>\n    </tr>\n    <tr>\n      <th>6166</th>\n      <td>2022_02_CHI_GB</td>\n      <td>2</td>\n      <td>CHI</td>\n      <td>10.0</td>\n      <td>GB</td>\n      <td>27.0</td>\n    </tr>\n    <tr>\n      <th>6167</th>\n      <td>2022_02_TEN_BUF</td>\n      <td>2</td>\n      <td>TEN</td>\n      <td>7.0</td>\n      <td>BUF</td>\n      <td>41.0</td>\n    </tr>\n    <tr>\n      <th>6168</th>\n      <td>2022_02_MIN_PHI</td>\n      <td>2</td>\n      <td>MIN</td>\n      <td>7.0</td>\n      <td>PHI</td>\n      <td>24.0</td>\n    </tr>\n    <tr>\n      <th>6169</th>\n      <td>2022_03_PIT_CLE</td>\n      <td>3</td>\n      <td>PIT</td>\n      <td>17.0</td>\n      <td>CLE</td>\n      <td>29.0</td>\n    </tr>\n    <tr>\n      <th>6170</th>\n      <td>2022_03_NO_CAR</td>\n      <td>3</td>\n      <td>NO</td>\n      <td>14.0</td>\n      <td>CAR</td>\n      <td>22.0</td>\n    </tr>\n    <tr>\n      <th>6171</th>\n      <td>2022_03_HOU_CHI</td>\n      <td>3</td>\n      <td>HOU</td>\n      <td>20.0</td>\n      <td>CHI</td>\n      <td>23.0</td>\n    </tr>\n    <tr>\n      <th>6172</th>\n      <td>2022_03_KC_IND</td>\n      <td>3</td>\n      <td>KC</td>\n      <td>17.0</td>\n      <td>IND</td>\n      <td>20.0</td>\n    </tr>\n    <tr>\n      <th>6173</th>\n      <td>2022_03_BUF_MIA</td>\n      <td>3</td>\n      <td>BUF</td>\n      <td>19.0</td>\n      <td>MIA</td>\n      <td>21.0</td>\n    </tr>\n    <tr>\n      <th>6174</th>\n      <td>2022_03_DET_MIN</td>\n      <td>3</td>\n      <td>DET</td>\n      <td>24.0</td>\n      <td>MIN</td>\n      <td>28.0</td>\n    </tr>\n    <tr>\n      <th>6175</th>\n      <td>2022_03_BAL_NE</td>\n      <td>3</td>\n      <td>BAL</td>\n      <td>37.0</td>\n      <td>NE</td>\n      <td>26.0</td>\n    </tr>\n    <tr>\n      <th>6176</th>\n      <td>2022_03_CIN_NYJ</td>\n      <td>3</td>\n      <td>CIN</td>\n      <td>27.0</td>\n      <td>NYJ</td>\n      <td>12.0</td>\n    </tr>\n    <tr>\n      <th>6177</th>\n      <td>2022_03_LV_TEN</td>\n      <td>3</td>\n      <td>LV</td>\n      <td>22.0</td>\n      <td>TEN</td>\n      <td>24.0</td>\n    </tr>\n    <tr>\n      <th>6178</th>\n      <td>2022_03_PHI_WAS</td>\n      <td>3</td>\n      <td>PHI</td>\n      <td>24.0</td>\n      <td>WAS</td>\n      <td>8.0</td>\n    </tr>\n    <tr>\n      <th>6179</th>\n      <td>2022_03_JAX_LAC</td>\n      <td>3</td>\n      <td>JAX</td>\n      <td>38.0</td>\n      <td>LAC</td>\n      <td>10.0</td>\n    </tr>\n    <tr>\n      <th>6180</th>\n      <td>2022_03_LA_ARI</td>\n      <td>3</td>\n      <td>LA</td>\n      <td>20.0</td>\n      <td>ARI</td>\n      <td>12.0</td>\n    </tr>\n    <tr>\n      <th>6181</th>\n      <td>2022_03_ATL_SEA</td>\n      <td>3</td>\n      <td>ATL</td>\n      <td>27.0</td>\n      <td>SEA</td>\n      <td>23.0</td>\n    </tr>\n    <tr>\n      <th>6182</th>\n      <td>2022_03_GB_TB</td>\n      <td>3</td>\n      <td>GB</td>\n      <td>14.0</td>\n      <td>TB</td>\n      <td>12.0</td>\n    </tr>\n    <tr>\n      <th>6183</th>\n      <td>2022_03_SF_DEN</td>\n      <td>3</td>\n      <td>SF</td>\n      <td>10.0</td>\n      <td>DEN</td>\n      <td>11.0</td>\n    </tr>\n  </tbody>\n</table>\n</div>"
     },
     "execution_count": 7,
     "metadata": {},
     "output_type": "execute_result"
    }
   ],
   "source": [
    "games_with_scores_df = make_nfl_game_scores_df()\n",
    "games_with_scores_df"
   ],
   "metadata": {
    "collapsed": false,
    "pycharm": {
     "name": "#%%\n"
    }
   }
  },
  {
   "cell_type": "code",
   "execution_count": 8,
   "outputs": [],
   "source": [
    "def make_insert_into_nfl_game_scores_2022_table(game_id, week, away_team, away_score, home_team, home_score):\n",
    "    \"\"\"\n",
    "    Function inserts the a game_id and its features into the nfl_game_scores_2022 table\n",
    "    :param game_id: game id key\n",
    "    :param week: int - week number\n",
    "    :param away_team: game away team\n",
    "    :param away_score: game away score\n",
    "    :param home_team: game home team\n",
    "    :param home_score: game away score\n",
    "    :return: None\n",
    "    \"\"\"\n",
    "    query = \"\"\"\n",
    "                 INSERT INTO nfl_game_scores_2022 (game_id, week, away_team, away_score, home_team, home_score)\n",
    "                 VALUES (%s, %s, %s, %s, %s, %s)\n",
    "                 ;\n",
    "            \"\"\"\n",
    "    data_tuple = (game_id, week, away_team, away_score, home_team, home_score)\n",
    "    cursor_execute_tuple(query, data_tuple)\n",
    "    return None"
   ],
   "metadata": {
    "collapsed": false,
    "pycharm": {
     "name": "#%%\n"
    }
   }
  },
  {
   "cell_type": "code",
   "execution_count": null,
   "outputs": [],
   "source": [
    "for index, row in games_with_scores_df.iterrows():\n",
    "    make_insert_into_nfl_game_scores_2022_table(row[\"game_id\"], row[\"week\"], row[\"away_team\"], row[\"away_score\"], row[\"home_team\"], row[\"home_score\"])"
   ],
   "metadata": {
    "collapsed": false,
    "pycharm": {
     "name": "#%%\n"
    }
   }
  },
  {
   "cell_type": "code",
   "execution_count": 9,
   "outputs": [],
   "source": [
    "def pipeline_make_insert_into_nfl_game_scores_2022_table():\n",
    "    \"\"\"\n",
    "    Function pipelines the process required to add a game_id along with relevant data to the nfl_game_scores_2022 table\n",
    "    :return: None\n",
    "    \"\"\"\n",
    "    games_with_scores_df = make_nfl_game_scores_df()\n",
    "    for index, row in games_with_scores_df.iterrows():\n",
    "        make_insert_into_nfl_game_scores_2022_table(row[\"game_id\"], row[\"week\"], row[\"away_team\"], row[\"away_score\"], row[\"home_team\"], row[\"home_score\"])\n",
    "    return None"
   ],
   "metadata": {
    "collapsed": false,
    "pycharm": {
     "name": "#%%\n"
    }
   }
  },
  {
   "cell_type": "code",
   "execution_count": 14,
   "outputs": [
    {
     "name": "stdout",
     "output_type": "stream",
     "text": [
      "Error: duplicate key value violates unique constraint \"nfl_game_scores_2022_pk\"\n",
      "DETAIL:  Key (game_id)=(2022_01_BUF_LA) already exists.\n",
      "\n",
      "Could not successfully execute the command\n",
      "Error: duplicate key value violates unique constraint \"nfl_game_scores_2022_pk\"\n",
      "DETAIL:  Key (game_id)=(2022_01_NO_ATL) already exists.\n",
      "\n",
      "Could not successfully execute the command\n",
      "Error: duplicate key value violates unique constraint \"nfl_game_scores_2022_pk\"\n",
      "DETAIL:  Key (game_id)=(2022_01_CLE_CAR) already exists.\n",
      "\n",
      "Could not successfully execute the command\n",
      "Error: duplicate key value violates unique constraint \"nfl_game_scores_2022_pk\"\n",
      "DETAIL:  Key (game_id)=(2022_01_SF_CHI) already exists.\n",
      "\n",
      "Could not successfully execute the command\n",
      "Error: duplicate key value violates unique constraint \"nfl_game_scores_2022_pk\"\n",
      "DETAIL:  Key (game_id)=(2022_01_PIT_CIN) already exists.\n",
      "\n",
      "Could not successfully execute the command\n",
      "Error: duplicate key value violates unique constraint \"nfl_game_scores_2022_pk\"\n",
      "DETAIL:  Key (game_id)=(2022_01_PHI_DET) already exists.\n",
      "\n",
      "Could not successfully execute the command\n",
      "Error: duplicate key value violates unique constraint \"nfl_game_scores_2022_pk\"\n",
      "DETAIL:  Key (game_id)=(2022_01_IND_HOU) already exists.\n",
      "\n",
      "Could not successfully execute the command\n",
      "Error: duplicate key value violates unique constraint \"nfl_game_scores_2022_pk\"\n",
      "DETAIL:  Key (game_id)=(2022_01_NE_MIA) already exists.\n",
      "\n",
      "Could not successfully execute the command\n",
      "Error: duplicate key value violates unique constraint \"nfl_game_scores_2022_pk\"\n",
      "DETAIL:  Key (game_id)=(2022_01_BAL_NYJ) already exists.\n",
      "\n",
      "Could not successfully execute the command\n",
      "Error: duplicate key value violates unique constraint \"nfl_game_scores_2022_pk\"\n",
      "DETAIL:  Key (game_id)=(2022_01_JAX_WAS) already exists.\n",
      "\n",
      "Could not successfully execute the command\n",
      "Error: duplicate key value violates unique constraint \"nfl_game_scores_2022_pk\"\n",
      "DETAIL:  Key (game_id)=(2022_01_KC_ARI) already exists.\n",
      "\n",
      "Could not successfully execute the command\n",
      "Error: duplicate key value violates unique constraint \"nfl_game_scores_2022_pk\"\n",
      "DETAIL:  Key (game_id)=(2022_01_LV_LAC) already exists.\n",
      "\n",
      "Could not successfully execute the command\n",
      "Error: duplicate key value violates unique constraint \"nfl_game_scores_2022_pk\"\n",
      "DETAIL:  Key (game_id)=(2022_01_GB_MIN) already exists.\n",
      "\n",
      "Could not successfully execute the command\n",
      "Error: duplicate key value violates unique constraint \"nfl_game_scores_2022_pk\"\n",
      "DETAIL:  Key (game_id)=(2022_01_NYG_TEN) already exists.\n",
      "\n",
      "Could not successfully execute the command\n",
      "Error: duplicate key value violates unique constraint \"nfl_game_scores_2022_pk\"\n",
      "DETAIL:  Key (game_id)=(2022_01_TB_DAL) already exists.\n",
      "\n",
      "Could not successfully execute the command\n",
      "Error: duplicate key value violates unique constraint \"nfl_game_scores_2022_pk\"\n",
      "DETAIL:  Key (game_id)=(2022_01_DEN_SEA) already exists.\n",
      "\n",
      "Could not successfully execute the command\n",
      "Error: duplicate key value violates unique constraint \"nfl_game_scores_2022_pk\"\n",
      "DETAIL:  Key (game_id)=(2022_02_LAC_KC) already exists.\n",
      "\n",
      "Could not successfully execute the command\n",
      "Error: duplicate key value violates unique constraint \"nfl_game_scores_2022_pk\"\n",
      "DETAIL:  Key (game_id)=(2022_02_MIA_BAL) already exists.\n",
      "\n",
      "Could not successfully execute the command\n",
      "Error: duplicate key value violates unique constraint \"nfl_game_scores_2022_pk\"\n",
      "DETAIL:  Key (game_id)=(2022_02_NYJ_CLE) already exists.\n",
      "\n",
      "Could not successfully execute the command\n",
      "Error: duplicate key value violates unique constraint \"nfl_game_scores_2022_pk\"\n",
      "DETAIL:  Key (game_id)=(2022_02_WAS_DET) already exists.\n",
      "\n",
      "Could not successfully execute the command\n",
      "Error: duplicate key value violates unique constraint \"nfl_game_scores_2022_pk\"\n",
      "DETAIL:  Key (game_id)=(2022_02_IND_JAX) already exists.\n",
      "\n",
      "Could not successfully execute the command\n",
      "Error: duplicate key value violates unique constraint \"nfl_game_scores_2022_pk\"\n",
      "DETAIL:  Key (game_id)=(2022_02_TB_NO) already exists.\n",
      "\n",
      "Could not successfully execute the command\n",
      "Error: duplicate key value violates unique constraint \"nfl_game_scores_2022_pk\"\n",
      "DETAIL:  Key (game_id)=(2022_02_CAR_NYG) already exists.\n",
      "\n",
      "Could not successfully execute the command\n",
      "Error: duplicate key value violates unique constraint \"nfl_game_scores_2022_pk\"\n",
      "DETAIL:  Key (game_id)=(2022_02_NE_PIT) already exists.\n",
      "\n",
      "Could not successfully execute the command\n",
      "Error: duplicate key value violates unique constraint \"nfl_game_scores_2022_pk\"\n",
      "DETAIL:  Key (game_id)=(2022_02_ATL_LA) already exists.\n",
      "\n",
      "Could not successfully execute the command\n",
      "Error: duplicate key value violates unique constraint \"nfl_game_scores_2022_pk\"\n",
      "DETAIL:  Key (game_id)=(2022_02_SEA_SF) already exists.\n",
      "\n",
      "Could not successfully execute the command\n",
      "Error: duplicate key value violates unique constraint \"nfl_game_scores_2022_pk\"\n",
      "DETAIL:  Key (game_id)=(2022_02_CIN_DAL) already exists.\n",
      "\n",
      "Could not successfully execute the command\n",
      "Error: duplicate key value violates unique constraint \"nfl_game_scores_2022_pk\"\n",
      "DETAIL:  Key (game_id)=(2022_02_HOU_DEN) already exists.\n",
      "\n",
      "Could not successfully execute the command\n",
      "Error: duplicate key value violates unique constraint \"nfl_game_scores_2022_pk\"\n",
      "DETAIL:  Key (game_id)=(2022_02_ARI_LV) already exists.\n",
      "\n",
      "Could not successfully execute the command\n",
      "Error: duplicate key value violates unique constraint \"nfl_game_scores_2022_pk\"\n",
      "DETAIL:  Key (game_id)=(2022_02_CHI_GB) already exists.\n",
      "\n",
      "Could not successfully execute the command\n",
      "Error: duplicate key value violates unique constraint \"nfl_game_scores_2022_pk\"\n",
      "DETAIL:  Key (game_id)=(2022_02_TEN_BUF) already exists.\n",
      "\n",
      "Could not successfully execute the command\n",
      "Error: duplicate key value violates unique constraint \"nfl_game_scores_2022_pk\"\n",
      "DETAIL:  Key (game_id)=(2022_02_MIN_PHI) already exists.\n",
      "\n",
      "Could not successfully execute the command\n",
      "Error: duplicate key value violates unique constraint \"nfl_game_scores_2022_pk\"\n",
      "DETAIL:  Key (game_id)=(2022_03_PIT_CLE) already exists.\n",
      "\n",
      "Could not successfully execute the command\n",
      "Successfully executed the command\n",
      "Successfully executed the command\n",
      "Successfully executed the command\n",
      "Successfully executed the command\n",
      "Successfully executed the command\n",
      "Successfully executed the command\n",
      "Successfully executed the command\n",
      "Successfully executed the command\n",
      "Successfully executed the command\n",
      "Successfully executed the command\n",
      "Successfully executed the command\n",
      "Successfully executed the command\n",
      "Successfully executed the command\n",
      "Successfully executed the command\n"
     ]
    }
   ],
   "source": [
    "pipeline_make_insert_into_nfl_game_scores_2022_table()"
   ],
   "metadata": {
    "collapsed": false,
    "pycharm": {
     "name": "#%%\n"
    }
   }
  },
  {
   "cell_type": "code",
   "execution_count": 17,
   "outputs": [],
   "source": [
    "def make_database_games_with_scores_df():\n",
    "    \"\"\"\n",
    "    Function queries the nfl_game_scores_2022 table and returns a Pandas DataFrame\n",
    "    :return: Dataframe\n",
    "    \"\"\"\n",
    "    engine = create_engine(\"postgresql+psycopg2://\" + USER + \":\" + PASSWORD + \"@\" + HOST + \"/\" + DATABASE)\n",
    "    query = \"\"\"\n",
    "         SELECT week, away_team, away_score, home_team, home_score\n",
    "         FROM nfl_game_scores_2022\n",
    "         ;\n",
    "         \"\"\"\n",
    "    database_games_with_scores_df = pd.read_sql_query(query, con=engine)\n",
    "    return database_games_with_scores_df"
   ],
   "metadata": {
    "collapsed": false,
    "pycharm": {
     "name": "#%%\n"
    }
   }
  },
  {
   "cell_type": "code",
   "execution_count": 18,
   "outputs": [
    {
     "data": {
      "text/plain": "    week away_team  away_score home_team  home_score\n0      3        NO          14       CAR          22\n1      3       HOU          20       CHI          23\n2      3        KC          17       IND          20\n3      3       BUF          19       MIA          21\n4      3       DET          24       MIN          28\n5      3       BAL          37        NE          26\n6      3       CIN          27       NYJ          12\n7      3        LV          22       TEN          24\n8      3       PHI          24       WAS           8\n9      3       JAX          38       LAC          10\n10     3        LA          20       ARI          12\n11     3       ATL          27       SEA          23\n12     3        GB          14        TB          12\n13     3        SF          10       DEN          11\n14     1       BUF          31        LA          10\n15     1        NO          27       ATL          26\n16     1       CLE          26       CAR          24\n17     1        SF          10       CHI          19\n18     1       PIT          23       CIN          20\n19     1       PHI          38       DET          35\n20     1       IND          20       HOU          20\n21     1        NE           7       MIA          20\n22     1       BAL          24       NYJ           9\n23     1       JAX          22       WAS          28\n24     1        KC          44       ARI          21\n25     1        LV          19       LAC          24\n26     1        GB           7       MIN          23\n27     1       NYG          21       TEN          20\n28     1        TB          19       DAL           3\n29     1       DEN          16       SEA          17\n30     2       LAC          24        KC          27\n31     2       MIA          42       BAL          38\n32     2       NYJ          31       CLE          30\n33     2       WAS          27       DET          36\n34     2       IND           0       JAX          24\n35     2        TB          20        NO          10\n36     2       CAR          16       NYG          19\n37     2        NE          17       PIT          14\n38     2       ATL          27        LA          31\n39     2       SEA           7        SF          27\n40     2       CIN          17       DAL          20\n41     2       HOU           9       DEN          16\n42     2       ARI          29        LV          23\n43     2       CHI          10        GB          27\n44     2       TEN           7       BUF          41\n45     2       MIN           7       PHI          24\n46     3       PIT          17       CLE          29",
      "text/html": "<div>\n<style scoped>\n    .dataframe tbody tr th:only-of-type {\n        vertical-align: middle;\n    }\n\n    .dataframe tbody tr th {\n        vertical-align: top;\n    }\n\n    .dataframe thead th {\n        text-align: right;\n    }\n</style>\n<table border=\"1\" class=\"dataframe\">\n  <thead>\n    <tr style=\"text-align: right;\">\n      <th></th>\n      <th>week</th>\n      <th>away_team</th>\n      <th>away_score</th>\n      <th>home_team</th>\n      <th>home_score</th>\n    </tr>\n  </thead>\n  <tbody>\n    <tr>\n      <th>0</th>\n      <td>3</td>\n      <td>NO</td>\n      <td>14</td>\n      <td>CAR</td>\n      <td>22</td>\n    </tr>\n    <tr>\n      <th>1</th>\n      <td>3</td>\n      <td>HOU</td>\n      <td>20</td>\n      <td>CHI</td>\n      <td>23</td>\n    </tr>\n    <tr>\n      <th>2</th>\n      <td>3</td>\n      <td>KC</td>\n      <td>17</td>\n      <td>IND</td>\n      <td>20</td>\n    </tr>\n    <tr>\n      <th>3</th>\n      <td>3</td>\n      <td>BUF</td>\n      <td>19</td>\n      <td>MIA</td>\n      <td>21</td>\n    </tr>\n    <tr>\n      <th>4</th>\n      <td>3</td>\n      <td>DET</td>\n      <td>24</td>\n      <td>MIN</td>\n      <td>28</td>\n    </tr>\n    <tr>\n      <th>5</th>\n      <td>3</td>\n      <td>BAL</td>\n      <td>37</td>\n      <td>NE</td>\n      <td>26</td>\n    </tr>\n    <tr>\n      <th>6</th>\n      <td>3</td>\n      <td>CIN</td>\n      <td>27</td>\n      <td>NYJ</td>\n      <td>12</td>\n    </tr>\n    <tr>\n      <th>7</th>\n      <td>3</td>\n      <td>LV</td>\n      <td>22</td>\n      <td>TEN</td>\n      <td>24</td>\n    </tr>\n    <tr>\n      <th>8</th>\n      <td>3</td>\n      <td>PHI</td>\n      <td>24</td>\n      <td>WAS</td>\n      <td>8</td>\n    </tr>\n    <tr>\n      <th>9</th>\n      <td>3</td>\n      <td>JAX</td>\n      <td>38</td>\n      <td>LAC</td>\n      <td>10</td>\n    </tr>\n    <tr>\n      <th>10</th>\n      <td>3</td>\n      <td>LA</td>\n      <td>20</td>\n      <td>ARI</td>\n      <td>12</td>\n    </tr>\n    <tr>\n      <th>11</th>\n      <td>3</td>\n      <td>ATL</td>\n      <td>27</td>\n      <td>SEA</td>\n      <td>23</td>\n    </tr>\n    <tr>\n      <th>12</th>\n      <td>3</td>\n      <td>GB</td>\n      <td>14</td>\n      <td>TB</td>\n      <td>12</td>\n    </tr>\n    <tr>\n      <th>13</th>\n      <td>3</td>\n      <td>SF</td>\n      <td>10</td>\n      <td>DEN</td>\n      <td>11</td>\n    </tr>\n    <tr>\n      <th>14</th>\n      <td>1</td>\n      <td>BUF</td>\n      <td>31</td>\n      <td>LA</td>\n      <td>10</td>\n    </tr>\n    <tr>\n      <th>15</th>\n      <td>1</td>\n      <td>NO</td>\n      <td>27</td>\n      <td>ATL</td>\n      <td>26</td>\n    </tr>\n    <tr>\n      <th>16</th>\n      <td>1</td>\n      <td>CLE</td>\n      <td>26</td>\n      <td>CAR</td>\n      <td>24</td>\n    </tr>\n    <tr>\n      <th>17</th>\n      <td>1</td>\n      <td>SF</td>\n      <td>10</td>\n      <td>CHI</td>\n      <td>19</td>\n    </tr>\n    <tr>\n      <th>18</th>\n      <td>1</td>\n      <td>PIT</td>\n      <td>23</td>\n      <td>CIN</td>\n      <td>20</td>\n    </tr>\n    <tr>\n      <th>19</th>\n      <td>1</td>\n      <td>PHI</td>\n      <td>38</td>\n      <td>DET</td>\n      <td>35</td>\n    </tr>\n    <tr>\n      <th>20</th>\n      <td>1</td>\n      <td>IND</td>\n      <td>20</td>\n      <td>HOU</td>\n      <td>20</td>\n    </tr>\n    <tr>\n      <th>21</th>\n      <td>1</td>\n      <td>NE</td>\n      <td>7</td>\n      <td>MIA</td>\n      <td>20</td>\n    </tr>\n    <tr>\n      <th>22</th>\n      <td>1</td>\n      <td>BAL</td>\n      <td>24</td>\n      <td>NYJ</td>\n      <td>9</td>\n    </tr>\n    <tr>\n      <th>23</th>\n      <td>1</td>\n      <td>JAX</td>\n      <td>22</td>\n      <td>WAS</td>\n      <td>28</td>\n    </tr>\n    <tr>\n      <th>24</th>\n      <td>1</td>\n      <td>KC</td>\n      <td>44</td>\n      <td>ARI</td>\n      <td>21</td>\n    </tr>\n    <tr>\n      <th>25</th>\n      <td>1</td>\n      <td>LV</td>\n      <td>19</td>\n      <td>LAC</td>\n      <td>24</td>\n    </tr>\n    <tr>\n      <th>26</th>\n      <td>1</td>\n      <td>GB</td>\n      <td>7</td>\n      <td>MIN</td>\n      <td>23</td>\n    </tr>\n    <tr>\n      <th>27</th>\n      <td>1</td>\n      <td>NYG</td>\n      <td>21</td>\n      <td>TEN</td>\n      <td>20</td>\n    </tr>\n    <tr>\n      <th>28</th>\n      <td>1</td>\n      <td>TB</td>\n      <td>19</td>\n      <td>DAL</td>\n      <td>3</td>\n    </tr>\n    <tr>\n      <th>29</th>\n      <td>1</td>\n      <td>DEN</td>\n      <td>16</td>\n      <td>SEA</td>\n      <td>17</td>\n    </tr>\n    <tr>\n      <th>30</th>\n      <td>2</td>\n      <td>LAC</td>\n      <td>24</td>\n      <td>KC</td>\n      <td>27</td>\n    </tr>\n    <tr>\n      <th>31</th>\n      <td>2</td>\n      <td>MIA</td>\n      <td>42</td>\n      <td>BAL</td>\n      <td>38</td>\n    </tr>\n    <tr>\n      <th>32</th>\n      <td>2</td>\n      <td>NYJ</td>\n      <td>31</td>\n      <td>CLE</td>\n      <td>30</td>\n    </tr>\n    <tr>\n      <th>33</th>\n      <td>2</td>\n      <td>WAS</td>\n      <td>27</td>\n      <td>DET</td>\n      <td>36</td>\n    </tr>\n    <tr>\n      <th>34</th>\n      <td>2</td>\n      <td>IND</td>\n      <td>0</td>\n      <td>JAX</td>\n      <td>24</td>\n    </tr>\n    <tr>\n      <th>35</th>\n      <td>2</td>\n      <td>TB</td>\n      <td>20</td>\n      <td>NO</td>\n      <td>10</td>\n    </tr>\n    <tr>\n      <th>36</th>\n      <td>2</td>\n      <td>CAR</td>\n      <td>16</td>\n      <td>NYG</td>\n      <td>19</td>\n    </tr>\n    <tr>\n      <th>37</th>\n      <td>2</td>\n      <td>NE</td>\n      <td>17</td>\n      <td>PIT</td>\n      <td>14</td>\n    </tr>\n    <tr>\n      <th>38</th>\n      <td>2</td>\n      <td>ATL</td>\n      <td>27</td>\n      <td>LA</td>\n      <td>31</td>\n    </tr>\n    <tr>\n      <th>39</th>\n      <td>2</td>\n      <td>SEA</td>\n      <td>7</td>\n      <td>SF</td>\n      <td>27</td>\n    </tr>\n    <tr>\n      <th>40</th>\n      <td>2</td>\n      <td>CIN</td>\n      <td>17</td>\n      <td>DAL</td>\n      <td>20</td>\n    </tr>\n    <tr>\n      <th>41</th>\n      <td>2</td>\n      <td>HOU</td>\n      <td>9</td>\n      <td>DEN</td>\n      <td>16</td>\n    </tr>\n    <tr>\n      <th>42</th>\n      <td>2</td>\n      <td>ARI</td>\n      <td>29</td>\n      <td>LV</td>\n      <td>23</td>\n    </tr>\n    <tr>\n      <th>43</th>\n      <td>2</td>\n      <td>CHI</td>\n      <td>10</td>\n      <td>GB</td>\n      <td>27</td>\n    </tr>\n    <tr>\n      <th>44</th>\n      <td>2</td>\n      <td>TEN</td>\n      <td>7</td>\n      <td>BUF</td>\n      <td>41</td>\n    </tr>\n    <tr>\n      <th>45</th>\n      <td>2</td>\n      <td>MIN</td>\n      <td>7</td>\n      <td>PHI</td>\n      <td>24</td>\n    </tr>\n    <tr>\n      <th>46</th>\n      <td>3</td>\n      <td>PIT</td>\n      <td>17</td>\n      <td>CLE</td>\n      <td>29</td>\n    </tr>\n  </tbody>\n</table>\n</div>"
     },
     "execution_count": 18,
     "metadata": {},
     "output_type": "execute_result"
    }
   ],
   "source": [
    "make_database_games_with_scores_df()"
   ],
   "metadata": {
    "collapsed": false,
    "pycharm": {
     "name": "#%%\n"
    }
   }
  },
  {
   "cell_type": "markdown",
   "source": [
    "### Finding Correct User/Weekly Picks"
   ],
   "metadata": {
    "collapsed": false,
    "pycharm": {
     "name": "#%% md\n"
    }
   }
  },
  {
   "cell_type": "code",
   "execution_count": null,
   "outputs": [],
   "source": [
    "def make_games_with_scores_df():\n",
    "    \"\"\"\n",
    "    Function creates a dataframe with a users chosen games and a flag for correct matchup pick\n",
    "    :param user_id: user id key\n",
    "    :return: Dataframe\n",
    "    \"\"\"\n",
    "    engine = create_engine(\"postgresql+psycopg2://\" + USER + \":\" + PASSWORD + \"@\" + HOST + \"/\" + DATABASE)\n",
    "    query = \"\"\"\n",
    "        WITH nfl_game_scores_2022 AS (\n",
    "            SELECT week, game_id,\n",
    "                CASE\n",
    "                    WHEN away_score > home_score THEN away_team\n",
    "                    WHEN away_score < home_score THEN home_team\n",
    "                END AS winning_team\n",
    "            FROM nfl_game_scores_2022\n",
    "        ),\n",
    "            user_weekly_picks AS (\n",
    "            SELECT user_id_game_id, user_id, game_id, winning_pick\n",
    "            FROM user_weekly_picks\n",
    "        ),\n",
    "            left_join_above AS (\n",
    "            SELECT usr.user_id_game_id, usr.user_id, nfl.game_id, nfl.week,\n",
    "                CASE\n",
    "                    WHEN usr.winning_pick = nfl.winning_team THEN 1\n",
    "                    WHEN usr.winning_pick != nfl.winning_team THEN 0\n",
    "                END AS correct_pick_flag\n",
    "            FROM nfl_game_scores_2022 nfl\n",
    "            LEFT JOIN user_weekly_picks usr\n",
    "                ON nfl.game_id = usr.game_id\n",
    "            WHERE usr.user_id_game_id IS NOT NULL\n",
    "        )\n",
    "         SELECT * FROM left_join_above ;\n",
    "         \"\"\"\n",
    "    database_games_with_scores_df = pd.read_sql_query(query, con=engine)\n",
    "    return database_games_with_scores_df"
   ],
   "metadata": {
    "collapsed": false,
    "pycharm": {
     "name": "#%%\n"
    }
   }
  },
  {
   "cell_type": "code",
   "execution_count": null,
   "outputs": [],
   "source": [
    "database_games_with_scores_df = make_games_with_scores_df()\n",
    "database_games_with_scores_df"
   ],
   "metadata": {
    "collapsed": false,
    "pycharm": {
     "name": "#%%\n"
    }
   }
  },
  {
   "cell_type": "code",
   "execution_count": null,
   "outputs": [],
   "source": [
    "def make_insert_into_user_winning_picks_table(user_id_game_id, user_id, game_id, week, correct_pick_flag):\n",
    "    \"\"\"\n",
    "    Function inserts picks into the winning picks table\n",
    "    :param user_id_game_id: user and game id key\n",
    "    :param user_id: user_id key\n",
    "    :param game_is:  game_id key\n",
    "    :param week: int - week\n",
    "    :param correct_pick_flag: boolean (1, 0)\n",
    "    :return: None\n",
    "    \"\"\"\n",
    "    query = \"\"\"\n",
    "                 INSERT INTO user_winning_picks (user_id_game_id, user_id, game_id, week, correct_pick_flag)\n",
    "                 VALUES (%s, %s, %s, %s, %s)\n",
    "                 ;\n",
    "            \"\"\"\n",
    "    data_tuple = (user_id_game_id, user_id, game_id, week, correct_pick_flag)\n",
    "    cursor_execute_tuple(query, data_tuple)\n",
    "    return None"
   ],
   "metadata": {
    "collapsed": false,
    "pycharm": {
     "name": "#%%\n"
    }
   }
  },
  {
   "cell_type": "code",
   "execution_count": null,
   "outputs": [],
   "source": [
    "for index, row in database_games_with_scores_df.iterrows():\n",
    "    make_insert_into_user_winning_picks_table(row[\"user_id_game_id\"], row[\"user_id\"], row[\"game_id\"], row[\"week\"], row[\"correct_pick_flag\"])"
   ],
   "metadata": {
    "collapsed": false,
    "pycharm": {
     "name": "#%%\n"
    }
   }
  },
  {
   "cell_type": "code",
   "execution_count": null,
   "outputs": [],
   "source": [
    "def pipeline_make_insert_into_user_winning_picks_table():\n",
    "    \"\"\"\n",
    "    Function pipelines the process required to insert picks into the winning picks table\n",
    "    :return: None\n",
    "    \"\"\"\n",
    "    database_games_with_scores_df = make_games_with_scores_df()\n",
    "    for index, row in database_games_with_scores_df.iterrows():\n",
    "        make_insert_into_user_winning_picks_table(row[\"user_id_game_id\"], row[\"user_id\"], row[\"game_id\"], row[\"week\"], row[\"correct_pick_flag\"])\n",
    "    return database_games_with_scores_df"
   ],
   "metadata": {
    "collapsed": false,
    "pycharm": {
     "name": "#%%\n"
    }
   }
  },
  {
   "cell_type": "code",
   "execution_count": null,
   "outputs": [],
   "source": [
    "pipeline_make_insert_into_user_winning_picks_table()"
   ],
   "metadata": {
    "collapsed": false,
    "pycharm": {
     "name": "#%%\n"
    }
   }
  },
  {
   "cell_type": "markdown",
   "source": [
    "#### Tabs and Weeks"
   ],
   "metadata": {
    "collapsed": false,
    "pycharm": {
     "name": "#%% md\n"
    }
   }
  },
  {
   "cell_type": "code",
   "execution_count": null,
   "outputs": [],
   "source": [
    "nfl_games_with_scored_df = make_database_games_with_scores_df()\n",
    "nfl_games_with_scored_df"
   ],
   "metadata": {
    "collapsed": false,
    "pycharm": {
     "name": "#%%\n"
    }
   }
  },
  {
   "cell_type": "code",
   "execution_count": null,
   "outputs": [],
   "source": [
    "def make_tab_names(nfl_games_with_scored_df):\n",
    "    \"\"\"\n",
    "    Function makes a list holding NFL Week numbers which have a score against them in the database\n",
    "    :param nfl_games_with_scored_df: Dataframe with games having a final score\n",
    "    :return: Pandas Dataframe\n",
    "    \"\"\"\n",
    "    weeks_with_scores = sorted(list(nfl_games_with_scored_df[\"week\"].unique()), reverse=False)\n",
    "    tab_name_list = [\"Week \" + week.astype(str) for week in weeks_with_scores]\n",
    "    return tab_name_list"
   ],
   "metadata": {
    "collapsed": false,
    "pycharm": {
     "name": "#%%\n"
    }
   }
  },
  {
   "cell_type": "code",
   "execution_count": null,
   "outputs": [],
   "source": [
    "tab_name_list = make_tab_names(nfl_games_with_scored_df)\n",
    "tab_name_list"
   ],
   "metadata": {
    "collapsed": false,
    "pycharm": {
     "name": "#%%\n"
    }
   }
  },
  {
   "cell_type": "code",
   "execution_count": 8,
   "outputs": [],
   "source": [],
   "metadata": {
    "collapsed": false,
    "pycharm": {
     "name": "#%%\n"
    }
   }
  },
  {
   "cell_type": "code",
   "execution_count": 15,
   "outputs": [],
   "source": [
    "def make_games_with_scores_df():\n",
    "    \"\"\"\n",
    "    Function creates a dataframe with a users chosen games and a flag for correct matchup pick\n",
    "    :param user_id: user id key\n",
    "    :return: Dataframe\n",
    "    \"\"\"\n",
    "    engine = create_engine(\"postgresql+psycopg2://\" + USER + \":\" + PASSWORD + \"@\" + HOST + \"/\" + DATABASE)\n",
    "    query = \"\"\"\n",
    "        WITH nfl_game_scores_2022 AS (\n",
    "            SELECT week, game_id,\n",
    "                CASE\n",
    "                    WHEN away_score > home_score THEN away_team\n",
    "                    WHEN away_score < home_score THEN home_team\n",
    "                    WHEN away_score = home_score THEN 'TIE'\n",
    "                END AS winning_team\n",
    "            FROM nfl_game_scores_2022\n",
    "        ),\n",
    "            user_weekly_picks AS (\n",
    "            SELECT user_id_game_id, user_id, game_id, winning_pick\n",
    "            FROM user_weekly_picks\n",
    "        ),\n",
    "            left_join_above AS (\n",
    "            SELECT usr.user_id_game_id, usr.user_id, nfl.game_id, nfl.week,\n",
    "                CASE\n",
    "                    WHEN usr.winning_pick = nfl.winning_team THEN 1\n",
    "                    WHEN usr.winning_pick != nfl.winning_team THEN 0\n",
    "                END AS correct_pick_flag\n",
    "            FROM nfl_game_scores_2022 nfl\n",
    "            LEFT JOIN user_weekly_picks usr\n",
    "                ON nfl.game_id = usr.game_id\n",
    "            WHERE usr.user_id_game_id IS NOT NULL\n",
    "        )\n",
    "         SELECT * FROM left_join_above ;\n",
    "         \"\"\"\n",
    "    database_games_with_scores_df = pd.read_sql_query(query, con=engine)\n",
    "    return database_games_with_scores_df"
   ],
   "metadata": {
    "collapsed": false,
    "pycharm": {
     "name": "#%%\n"
    }
   }
  },
  {
   "cell_type": "code",
   "execution_count": 16,
   "outputs": [
    {
     "data": {
      "text/plain": "      user_id_game_id  user_id          game_id  week  correct_pick_flag\n0   7_2022_01_BAL_NYJ        7  2022_01_BAL_NYJ     1                  1\n1    7_2022_01_BUF_LA        7   2022_01_BUF_LA     1                  1\n2   7_2022_01_CLE_CAR        7  2022_01_CLE_CAR     1                  1\n3   7_2022_01_DEN_SEA        7  2022_01_DEN_SEA     1                  0\n4    7_2022_01_GB_MIN        7   2022_01_GB_MIN     1                  0\n..                ...      ...              ...   ...                ...\n61   8_2022_01_LV_LAC        8   2022_01_LV_LAC     1                  1\n62  8_2022_02_HOU_DEN        8  2022_02_HOU_DEN     2                  1\n63   8_2022_01_KC_ARI        8   2022_01_KC_ARI     1                  0\n64  8_2022_02_MIN_PHI        8  2022_02_MIN_PHI     2                  0\n65   8_2022_01_SF_CHI        8   2022_01_SF_CHI     1                  0\n\n[66 rows x 5 columns]",
      "text/html": "<div>\n<style scoped>\n    .dataframe tbody tr th:only-of-type {\n        vertical-align: middle;\n    }\n\n    .dataframe tbody tr th {\n        vertical-align: top;\n    }\n\n    .dataframe thead th {\n        text-align: right;\n    }\n</style>\n<table border=\"1\" class=\"dataframe\">\n  <thead>\n    <tr style=\"text-align: right;\">\n      <th></th>\n      <th>user_id_game_id</th>\n      <th>user_id</th>\n      <th>game_id</th>\n      <th>week</th>\n      <th>correct_pick_flag</th>\n    </tr>\n  </thead>\n  <tbody>\n    <tr>\n      <th>0</th>\n      <td>7_2022_01_BAL_NYJ</td>\n      <td>7</td>\n      <td>2022_01_BAL_NYJ</td>\n      <td>1</td>\n      <td>1</td>\n    </tr>\n    <tr>\n      <th>1</th>\n      <td>7_2022_01_BUF_LA</td>\n      <td>7</td>\n      <td>2022_01_BUF_LA</td>\n      <td>1</td>\n      <td>1</td>\n    </tr>\n    <tr>\n      <th>2</th>\n      <td>7_2022_01_CLE_CAR</td>\n      <td>7</td>\n      <td>2022_01_CLE_CAR</td>\n      <td>1</td>\n      <td>1</td>\n    </tr>\n    <tr>\n      <th>3</th>\n      <td>7_2022_01_DEN_SEA</td>\n      <td>7</td>\n      <td>2022_01_DEN_SEA</td>\n      <td>1</td>\n      <td>0</td>\n    </tr>\n    <tr>\n      <th>4</th>\n      <td>7_2022_01_GB_MIN</td>\n      <td>7</td>\n      <td>2022_01_GB_MIN</td>\n      <td>1</td>\n      <td>0</td>\n    </tr>\n    <tr>\n      <th>...</th>\n      <td>...</td>\n      <td>...</td>\n      <td>...</td>\n      <td>...</td>\n      <td>...</td>\n    </tr>\n    <tr>\n      <th>61</th>\n      <td>8_2022_01_LV_LAC</td>\n      <td>8</td>\n      <td>2022_01_LV_LAC</td>\n      <td>1</td>\n      <td>1</td>\n    </tr>\n    <tr>\n      <th>62</th>\n      <td>8_2022_02_HOU_DEN</td>\n      <td>8</td>\n      <td>2022_02_HOU_DEN</td>\n      <td>2</td>\n      <td>1</td>\n    </tr>\n    <tr>\n      <th>63</th>\n      <td>8_2022_01_KC_ARI</td>\n      <td>8</td>\n      <td>2022_01_KC_ARI</td>\n      <td>1</td>\n      <td>0</td>\n    </tr>\n    <tr>\n      <th>64</th>\n      <td>8_2022_02_MIN_PHI</td>\n      <td>8</td>\n      <td>2022_02_MIN_PHI</td>\n      <td>2</td>\n      <td>0</td>\n    </tr>\n    <tr>\n      <th>65</th>\n      <td>8_2022_01_SF_CHI</td>\n      <td>8</td>\n      <td>2022_01_SF_CHI</td>\n      <td>1</td>\n      <td>0</td>\n    </tr>\n  </tbody>\n</table>\n<p>66 rows × 5 columns</p>\n</div>"
     },
     "execution_count": 16,
     "metadata": {},
     "output_type": "execute_result"
    }
   ],
   "source": [
    "make_games_with_scores_df()"
   ],
   "metadata": {
    "collapsed": false,
    "pycharm": {
     "name": "#%%\n"
    }
   }
  },
  {
   "cell_type": "code",
   "execution_count": 14,
   "outputs": [
    {
     "data": {
      "text/plain": "'10:58:10'"
     },
     "execution_count": 14,
     "metadata": {},
     "output_type": "execute_result"
    }
   ],
   "source": [
    "time_created"
   ],
   "metadata": {
    "collapsed": false,
    "pycharm": {
     "name": "#%%\n"
    }
   }
  },
  {
   "cell_type": "markdown",
   "source": [
    "## Showing User Picks"
   ],
   "metadata": {
    "collapsed": false,
    "pycharm": {
     "name": "#%% md\n"
    }
   }
  },
  {
   "cell_type": "code",
   "execution_count": 31,
   "outputs": [],
   "source": [
    "def make_user_weekly_picks_df(user_id):\n",
    "    \"\"\"\n",
    "    Function queries the user_weekly_picks table and returns a Pandas DataFrame for the specified users data\n",
    "    :param user_id: user_id key\n",
    "    :return: Dataframe\n",
    "    \"\"\"\n",
    "    engine = create_engine(\"postgresql+psycopg2://\" + USER + \":\" + PASSWORD + \"@\" + HOST + \"/\" + DATABASE)\n",
    "    query = \"\"\"\n",
    "         SELECT game_id, winning_pick\n",
    "         FROM user_weekly_picks\n",
    "         WHERE user_id=%(user_id)s\n",
    "         ;\n",
    "         \"\"\"\n",
    "    user_weekly_picks_df = pd.read_sql_query(query, con=engine, params={\"user_id\": user_id})\n",
    "    return user_weekly_picks_df"
   ],
   "metadata": {
    "collapsed": false,
    "pycharm": {
     "name": "#%%\n"
    }
   }
  },
  {
   "cell_type": "code",
   "execution_count": 32,
   "outputs": [
    {
     "data": {
      "text/plain": "            game_id winning_pick\n0    2022_03_NO_CAR          CAR\n1   2022_03_HOU_CHI          CHI\n2    2022_03_KC_IND           KC\n3   2022_03_BUF_MIA          BUF\n4   2022_03_DET_MIN          MIN\n5    2022_03_BAL_NE          BAL\n6   2022_03_CIN_NYJ          CIN\n7    2022_03_LV_TEN           LV\n8   2022_03_PHI_WAS          PHI\n9   2022_03_JAX_LAC          LAC\n10   2022_03_LA_ARI          ARI\n11  2022_03_ATL_SEA          SEA\n12    2022_03_GB_TB           TB\n13   2022_03_SF_DEN          DEN\n14  2022_03_DAL_NYG          NYG\n15  2022_01_BAL_NYJ          BAL\n16   2022_01_BUF_LA          BUF\n17  2022_01_CLE_CAR          CLE\n18  2022_01_DEN_SEA          DEN\n19   2022_01_GB_MIN           GB\n20  2022_01_IND_HOU          IND\n21  2022_01_JAX_WAS          WAS\n22   2022_01_KC_ARI           KC\n23   2022_01_LV_LAC          LAC\n24   2022_01_NE_MIA          MIA\n25   2022_01_NO_ATL           NO\n26  2022_01_NYG_TEN          TEN\n27  2022_01_PHI_DET          PHI\n28  2022_01_PIT_CIN          CIN\n29   2022_01_SF_CHI           SF\n30   2022_01_TB_DAL           TB\n31   2022_02_ARI_LV          ARI\n32   2022_02_ATL_LA           LA\n33  2022_02_CAR_NYG          CAR\n34   2022_02_CHI_GB           GB\n35  2022_02_CIN_DAL          CIN\n36  2022_02_HOU_DEN          DEN\n37  2022_02_IND_JAX          IND\n38   2022_02_LAC_KC           KC\n39  2022_02_MIA_BAL          BAL\n40  2022_02_MIN_PHI          MIN\n41   2022_02_NE_PIT          PIT\n42  2022_02_NYJ_CLE          CLE\n43   2022_02_SEA_SF          SEA\n44    2022_02_TB_NO           TB\n45  2022_02_TEN_BUF          BUF\n46  2022_02_WAS_DET          DET\n47  2022_03_PIT_CLE          PIT",
      "text/html": "<div>\n<style scoped>\n    .dataframe tbody tr th:only-of-type {\n        vertical-align: middle;\n    }\n\n    .dataframe tbody tr th {\n        vertical-align: top;\n    }\n\n    .dataframe thead th {\n        text-align: right;\n    }\n</style>\n<table border=\"1\" class=\"dataframe\">\n  <thead>\n    <tr style=\"text-align: right;\">\n      <th></th>\n      <th>game_id</th>\n      <th>winning_pick</th>\n    </tr>\n  </thead>\n  <tbody>\n    <tr>\n      <th>0</th>\n      <td>2022_03_NO_CAR</td>\n      <td>CAR</td>\n    </tr>\n    <tr>\n      <th>1</th>\n      <td>2022_03_HOU_CHI</td>\n      <td>CHI</td>\n    </tr>\n    <tr>\n      <th>2</th>\n      <td>2022_03_KC_IND</td>\n      <td>KC</td>\n    </tr>\n    <tr>\n      <th>3</th>\n      <td>2022_03_BUF_MIA</td>\n      <td>BUF</td>\n    </tr>\n    <tr>\n      <th>4</th>\n      <td>2022_03_DET_MIN</td>\n      <td>MIN</td>\n    </tr>\n    <tr>\n      <th>5</th>\n      <td>2022_03_BAL_NE</td>\n      <td>BAL</td>\n    </tr>\n    <tr>\n      <th>6</th>\n      <td>2022_03_CIN_NYJ</td>\n      <td>CIN</td>\n    </tr>\n    <tr>\n      <th>7</th>\n      <td>2022_03_LV_TEN</td>\n      <td>LV</td>\n    </tr>\n    <tr>\n      <th>8</th>\n      <td>2022_03_PHI_WAS</td>\n      <td>PHI</td>\n    </tr>\n    <tr>\n      <th>9</th>\n      <td>2022_03_JAX_LAC</td>\n      <td>LAC</td>\n    </tr>\n    <tr>\n      <th>10</th>\n      <td>2022_03_LA_ARI</td>\n      <td>ARI</td>\n    </tr>\n    <tr>\n      <th>11</th>\n      <td>2022_03_ATL_SEA</td>\n      <td>SEA</td>\n    </tr>\n    <tr>\n      <th>12</th>\n      <td>2022_03_GB_TB</td>\n      <td>TB</td>\n    </tr>\n    <tr>\n      <th>13</th>\n      <td>2022_03_SF_DEN</td>\n      <td>DEN</td>\n    </tr>\n    <tr>\n      <th>14</th>\n      <td>2022_03_DAL_NYG</td>\n      <td>NYG</td>\n    </tr>\n    <tr>\n      <th>15</th>\n      <td>2022_01_BAL_NYJ</td>\n      <td>BAL</td>\n    </tr>\n    <tr>\n      <th>16</th>\n      <td>2022_01_BUF_LA</td>\n      <td>BUF</td>\n    </tr>\n    <tr>\n      <th>17</th>\n      <td>2022_01_CLE_CAR</td>\n      <td>CLE</td>\n    </tr>\n    <tr>\n      <th>18</th>\n      <td>2022_01_DEN_SEA</td>\n      <td>DEN</td>\n    </tr>\n    <tr>\n      <th>19</th>\n      <td>2022_01_GB_MIN</td>\n      <td>GB</td>\n    </tr>\n    <tr>\n      <th>20</th>\n      <td>2022_01_IND_HOU</td>\n      <td>IND</td>\n    </tr>\n    <tr>\n      <th>21</th>\n      <td>2022_01_JAX_WAS</td>\n      <td>WAS</td>\n    </tr>\n    <tr>\n      <th>22</th>\n      <td>2022_01_KC_ARI</td>\n      <td>KC</td>\n    </tr>\n    <tr>\n      <th>23</th>\n      <td>2022_01_LV_LAC</td>\n      <td>LAC</td>\n    </tr>\n    <tr>\n      <th>24</th>\n      <td>2022_01_NE_MIA</td>\n      <td>MIA</td>\n    </tr>\n    <tr>\n      <th>25</th>\n      <td>2022_01_NO_ATL</td>\n      <td>NO</td>\n    </tr>\n    <tr>\n      <th>26</th>\n      <td>2022_01_NYG_TEN</td>\n      <td>TEN</td>\n    </tr>\n    <tr>\n      <th>27</th>\n      <td>2022_01_PHI_DET</td>\n      <td>PHI</td>\n    </tr>\n    <tr>\n      <th>28</th>\n      <td>2022_01_PIT_CIN</td>\n      <td>CIN</td>\n    </tr>\n    <tr>\n      <th>29</th>\n      <td>2022_01_SF_CHI</td>\n      <td>SF</td>\n    </tr>\n    <tr>\n      <th>30</th>\n      <td>2022_01_TB_DAL</td>\n      <td>TB</td>\n    </tr>\n    <tr>\n      <th>31</th>\n      <td>2022_02_ARI_LV</td>\n      <td>ARI</td>\n    </tr>\n    <tr>\n      <th>32</th>\n      <td>2022_02_ATL_LA</td>\n      <td>LA</td>\n    </tr>\n    <tr>\n      <th>33</th>\n      <td>2022_02_CAR_NYG</td>\n      <td>CAR</td>\n    </tr>\n    <tr>\n      <th>34</th>\n      <td>2022_02_CHI_GB</td>\n      <td>GB</td>\n    </tr>\n    <tr>\n      <th>35</th>\n      <td>2022_02_CIN_DAL</td>\n      <td>CIN</td>\n    </tr>\n    <tr>\n      <th>36</th>\n      <td>2022_02_HOU_DEN</td>\n      <td>DEN</td>\n    </tr>\n    <tr>\n      <th>37</th>\n      <td>2022_02_IND_JAX</td>\n      <td>IND</td>\n    </tr>\n    <tr>\n      <th>38</th>\n      <td>2022_02_LAC_KC</td>\n      <td>KC</td>\n    </tr>\n    <tr>\n      <th>39</th>\n      <td>2022_02_MIA_BAL</td>\n      <td>BAL</td>\n    </tr>\n    <tr>\n      <th>40</th>\n      <td>2022_02_MIN_PHI</td>\n      <td>MIN</td>\n    </tr>\n    <tr>\n      <th>41</th>\n      <td>2022_02_NE_PIT</td>\n      <td>PIT</td>\n    </tr>\n    <tr>\n      <th>42</th>\n      <td>2022_02_NYJ_CLE</td>\n      <td>CLE</td>\n    </tr>\n    <tr>\n      <th>43</th>\n      <td>2022_02_SEA_SF</td>\n      <td>SEA</td>\n    </tr>\n    <tr>\n      <th>44</th>\n      <td>2022_02_TB_NO</td>\n      <td>TB</td>\n    </tr>\n    <tr>\n      <th>45</th>\n      <td>2022_02_TEN_BUF</td>\n      <td>BUF</td>\n    </tr>\n    <tr>\n      <th>46</th>\n      <td>2022_02_WAS_DET</td>\n      <td>DET</td>\n    </tr>\n    <tr>\n      <th>47</th>\n      <td>2022_03_PIT_CLE</td>\n      <td>PIT</td>\n    </tr>\n  </tbody>\n</table>\n</div>"
     },
     "execution_count": 32,
     "metadata": {},
     "output_type": "execute_result"
    }
   ],
   "source": [
    "user_weekly_picks_df = make_user_weekly_picks_df(7)\n",
    "user_weekly_picks_df"
   ],
   "metadata": {
    "collapsed": false,
    "pycharm": {
     "name": "#%%\n"
    }
   }
  },
  {
   "cell_type": "code",
   "execution_count": 33,
   "outputs": [
    {
     "data": {
      "text/plain": "[['2022_03_PIT_CLE',\n  'PIT @ CLE',\n  'Thursday - 20:15 ET @ FirstEnergy Stadium',\n  'PIT rested 4 days - CLE rested 4 days - Spread is 4.5'],\n ['2022_03_NO_CAR',\n  'NO @ CAR',\n  'Sunday - 13:00 ET @ Bank of America Stadium',\n  'NO rested 7 days - CAR rested 7 days - Spread is -2.0'],\n ['2022_03_HOU_CHI',\n  'HOU @ CHI',\n  'Sunday - 13:00 ET @ Soldier Field',\n  'HOU rested 7 days - CHI rested 7 days - Spread is 3.0'],\n ['2022_03_KC_IND',\n  'KC @ IND',\n  'Sunday - 13:00 ET @ Lucas Oil Stadium',\n  'KC rested 10 days - IND rested 7 days - Spread is -4.5'],\n ['2022_03_BUF_MIA',\n  'BUF @ MIA',\n  'Sunday - 13:00 ET @ Hard Rock Stadium',\n  'BUF rested 6 days - MIA rested 7 days - Spread is -4.0'],\n ['2022_03_DET_MIN',\n  'DET @ MIN',\n  'Sunday - 13:00 ET @ U.S. Bank Stadium',\n  'DET rested 7 days - MIN rested 6 days - Spread is 6.5'],\n ['2022_03_BAL_NE',\n  'BAL @ NE',\n  'Sunday - 13:00 ET @ Gillette Stadium',\n  'BAL rested 7 days - NE rested 7 days - Spread is -2.5'],\n ['2022_03_CIN_NYJ',\n  'CIN @ NYJ',\n  'Sunday - 13:00 ET @ MetLife Stadium',\n  'CIN rested 7 days - NYJ rested 7 days - Spread is -6.5'],\n ['2022_03_LV_TEN',\n  'LV @ TEN',\n  'Sunday - 13:00 ET @ Nissan Stadium',\n  'LV rested 7 days - TEN rested 6 days - Spread is -1.5'],\n ['2022_03_PHI_WAS',\n  'PHI @ WAS',\n  'Sunday - 13:00 ET @ FedExField',\n  'PHI rested 6 days - WAS rested 7 days - Spread is -6.0'],\n ['2022_03_JAX_LAC',\n  'JAX @ LAC',\n  'Sunday - 16:05 ET @ SoFi Stadium',\n  'JAX rested 7 days - LAC rested 10 days - Spread is 6.5'],\n ['2022_03_LA_ARI',\n  'LA @ ARI',\n  'Sunday - 16:25 ET @ State Farm Stadium',\n  'LA rested 7 days - ARI rested 7 days - Spread is -3.5'],\n ['2022_03_ATL_SEA',\n  'ATL @ SEA',\n  'Sunday - 16:25 ET @ Lumen Field',\n  'ATL rested 7 days - SEA rested 7 days - Spread is 1.0'],\n ['2022_03_GB_TB',\n  'GB @ TB',\n  'Sunday - 16:25 ET @ Raymond James Stadium',\n  'GB rested 7 days - TB rested 7 days - Spread is 1.0'],\n ['2022_03_SF_DEN',\n  'SF @ DEN',\n  'Sunday - 20:20 ET @ Empower Field at Mile High',\n  'SF rested 7 days - DEN rested 7 days - Spread is -1.0'],\n ['2022_03_DAL_NYG',\n  'DAL @ NYG',\n  'Monday - 20:15 ET @ MetLife Stadium',\n  'DAL rested 8 days - NYG rested 8 days - Spread is 1.0']]"
     },
     "execution_count": 33,
     "metadata": {},
     "output_type": "execute_result"
    }
   ],
   "source": [
    "all_matchup_list"
   ],
   "metadata": {
    "collapsed": false,
    "pycharm": {
     "name": "#%%\n"
    }
   }
  },
  {
   "cell_type": "code",
   "execution_count": 34,
   "outputs": [],
   "source": [
    "def make_gameday_gameid_home_away(all_matchup_list):\n",
    "    \"\"\"\n",
    "    Function makes the variables for game id, home team and away team\n",
    "    :param all_matchup_list: Lists of lists containing gameday text information for each matchup\n",
    "    :return: Variables for game id, home team and away team\n",
    "    \"\"\"\n",
    "    game_daytime = all_matchup_list[i][2].split(\" @ \")[0]\n",
    "    game_id = all_matchup_list[i][0]\n",
    "    home_team = all_matchup_list[i][1].split(\" @ \")[1]\n",
    "    away_team = all_matchup_list[i][1].split(\" @ \")[0]\n",
    "    return game_daytime, game_id, home_team, away_team"
   ],
   "metadata": {
    "collapsed": false,
    "pycharm": {
     "name": "#%%\n"
    }
   }
  },
  {
   "cell_type": "code",
   "execution_count": 35,
   "outputs": [],
   "source": [
    "for i in range(len(all_matchup_list)):\n",
    "    game_daytime, game_id, home_team, away_team = make_gameday_gameid_home_away(all_matchup_list)"
   ],
   "metadata": {
    "collapsed": false,
    "pycharm": {
     "name": "#%%\n"
    }
   }
  },
  {
   "cell_type": "code",
   "execution_count": null,
   "outputs": [],
   "source": [
    "def make_away_home_checkbox_default_value(game_id, home_team, away_team, user_weekly_picks_df):\n",
    "    \"\"\"\n",
    "\n",
    "    :param game_id:\n",
    "    :param home_team:\n",
    "    :param away_team:\n",
    "    :param user_weekly_picks_df:\n",
    "    :return:\n",
    "    \"\"\"\n",
    "    if game_id in list(user_weekly_picks_df[\"game_id\"]):\n",
    "        user_winning_pick_team = user_weekly_picks_df[user_weekly_picks_df[\"game_id\"] == game_id][\"winning_pick\"].iloc[0]\n",
    "        if user_winning_pick_team == away_team:\n",
    "            away_team_checkbox_value = True\n",
    "            home_team_checkbox_value = False\n",
    "        elif user_winning_pick_team == home_team:\n",
    "            away_team_checkbox_value = False\n",
    "            home_team_checkbox_value = True\n",
    "    else:\n",
    "        away_team_checkbox_value = False\n",
    "        home_team_checkbox_value = True\n",
    "    return away_team_checkbox_value, home_team_checkbox_value"
   ],
   "metadata": {
    "collapsed": false,
    "pycharm": {
     "name": "#%%\n"
    }
   }
  },
  {
   "cell_type": "code",
   "execution_count": 44,
   "outputs": [],
   "source": [
    "if game_id in list(user_weekly_picks_df[\"game_id\"]):\n",
    "    user_winning_pick_team = user_weekly_picks_df[user_weekly_picks_df[\"game_id\"] == game_id][\"winning_pick\"].iloc[0]\n",
    "    if user_winning_pick_team == away_team:\n",
    "        away_team_checkbox_value = True\n",
    "        home_team_checkbox_value = False\n",
    "    elif user_winning_pick_team == home_team:\n",
    "        away_team_checkbox_value = False\n",
    "        home_team_checkbox_value = True\n",
    "else:\n",
    "    away_team_checkbox_value = False\n",
    "    home_team_checkbox_value = True"
   ],
   "metadata": {
    "collapsed": false,
    "pycharm": {
     "name": "#%%\n"
    }
   }
  },
  {
   "cell_type": "code",
   "execution_count": 45,
   "outputs": [
    {
     "data": {
      "text/plain": "True"
     },
     "execution_count": 45,
     "metadata": {},
     "output_type": "execute_result"
    }
   ],
   "source": [
    "home_team_checkbox_value"
   ],
   "metadata": {
    "collapsed": false,
    "pycharm": {
     "name": "#%%\n"
    }
   }
  },
  {
   "cell_type": "code",
   "execution_count": 46,
   "outputs": [
    {
     "data": {
      "text/plain": "False"
     },
     "execution_count": 46,
     "metadata": {},
     "output_type": "execute_result"
    }
   ],
   "source": [
    "away_team_checkbox_value"
   ],
   "metadata": {
    "collapsed": false,
    "pycharm": {
     "name": "#%%\n"
    }
   }
  },
  {
   "cell_type": "code",
   "execution_count": null,
   "outputs": [],
   "source": [],
   "metadata": {
    "collapsed": false,
    "pycharm": {
     "name": "#%%\n"
    }
   }
  }
 ],
 "metadata": {
  "kernelspec": {
   "display_name": "Python 3",
   "language": "python",
   "name": "python3"
  },
  "language_info": {
   "codemirror_mode": {
    "name": "ipython",
    "version": 2
   },
   "file_extension": ".py",
   "mimetype": "text/x-python",
   "name": "python",
   "nbconvert_exporter": "python",
   "pygments_lexer": "ipython2",
   "version": "2.7.6"
  }
 },
 "nbformat": 4,
 "nbformat_minor": 0
}